{
 "cells": [
  {
   "cell_type": "markdown",
   "id": "2ca46e83-c630-45ab-abcf-9fc92e6e5943",
   "metadata": {},
   "source": [
    "# Python Lists\n",
    "\n",
    "Lists in Python are incredibly useful and are instrumental in solving a wide variety of problems.\n",
    "\n",
    "Ref: https://docs.python.org/3/tutorial/introduction.html#lists\n",
    "\n",
    "Ref: https://docs.python.org/3/tutorial/datastructures.html\n",
    "\n",
    "Ref: https://docs.python.org/3/howto/sorting.html"
   ]
  },
  {
   "cell_type": "markdown",
   "id": "89cc1ff1-1c85-4937-b612-b2af1ecec47c",
   "metadata": {},
   "source": [
    "## 1. Creating lists"
   ]
  },
  {
   "cell_type": "code",
   "execution_count": 1,
   "id": "c4daae8e-3d1c-482e-8a98-3bc290a75174",
   "metadata": {},
   "outputs": [
    {
     "data": {
      "text/plain": [
       "[0, 0, 0, 0, 0]"
      ]
     },
     "execution_count": 1,
     "metadata": {},
     "output_type": "execute_result"
    }
   ],
   "source": [
    "# initializing with size and value\n",
    "[0]*5"
   ]
  },
  {
   "cell_type": "code",
   "execution_count": 2,
   "id": "c0a5861c-887d-49e4-8f39-3322e2d155cd",
   "metadata": {},
   "outputs": [
    {
     "data": {
      "text/plain": [
       "[1, 'c', True, 3.14]"
      ]
     },
     "execution_count": 2,
     "metadata": {},
     "output_type": "execute_result"
    }
   ],
   "source": [
    "# with mixed types\n",
    "[1, 'c', True, 3.14]"
   ]
  },
  {
   "cell_type": "code",
   "execution_count": 3,
   "id": "8ca8b964-194b-4395-86e1-d6aff1a967e1",
   "metadata": {},
   "outputs": [
    {
     "data": {
      "text/plain": [
       "[0, 0, 0, 0, 0]"
      ]
     },
     "execution_count": 3,
     "metadata": {},
     "output_type": "execute_result"
    }
   ],
   "source": [
    "# using list comprehension\n",
    "[0 for x in range(5)]"
   ]
  },
  {
   "cell_type": "code",
   "execution_count": 4,
   "id": "e65e8bdd-9f14-4cc9-b247-d063e491654c",
   "metadata": {},
   "outputs": [
    {
     "name": "stdout",
     "output_type": "stream",
     "text": [
      "[0, 1, 2]\n",
      "[0, 1, 2]\n",
      "[0, 1, 2]\n"
     ]
    }
   ],
   "source": [
    "# duplicating lists\n",
    "a = [0, 1, 2]\n",
    "\n",
    "b = a.copy()\n",
    "print(b)\n",
    "\n",
    "b = a[:]\n",
    "print(b)\n",
    "\n",
    "# too verbose for a simple copy, but could be used for filtering items in the copy\n",
    "b = [x for x in a]\n",
    "print(b)"
   ]
  },
  {
   "cell_type": "code",
   "execution_count": 5,
   "id": "3c07180c-0e3c-40f3-b0d0-3a69473f7b33",
   "metadata": {},
   "outputs": [
    {
     "name": "stdout",
     "output_type": "stream",
     "text": [
      "[0, 1, 2, 3, 4]\n",
      "[True, False, True, False, True]\n",
      "[0, 0, 0, 1, 1, 1, 2, 2, 2]\n"
     ]
    }
   ],
   "source": [
    "# following patterns\n",
    "print([x for x in range(5)])\n",
    "\n",
    "print([x % 2 == 0 for x in range(5)])\n",
    "\n",
    "print([x // 3 for x in range(9)])"
   ]
  },
  {
   "cell_type": "code",
   "execution_count": 6,
   "id": "3381a176-a2b5-4e75-a197-85ea36fc5d1b",
   "metadata": {},
   "outputs": [
    {
     "data": {
      "text/plain": [
       "[0, 1, 4, 9, 16, 25, 36, 49, 64, 81]"
      ]
     },
     "execution_count": 6,
     "metadata": {},
     "output_type": "execute_result"
    }
   ],
   "source": [
    "# copy by executing a function on each item\n",
    "def square(x):\n",
    "    return x ** 2\n",
    "\n",
    "[square(x) for x in range(10)]"
   ]
  },
  {
   "cell_type": "code",
   "execution_count": 7,
   "id": "690e8831-36fc-42a0-9a65-90b95435fda3",
   "metadata": {},
   "outputs": [
    {
     "data": {
      "text/plain": [
       "[1, 4, 9]"
      ]
     },
     "execution_count": 7,
     "metadata": {},
     "output_type": "execute_result"
    }
   ],
   "source": [
    "# copy by executing a function on each item (using map function)\n",
    "def square(x):\n",
    "    return x ** 2\n",
    "\n",
    "a = [1, 2, 3]\n",
    "list(map(square, a))"
   ]
  },
  {
   "cell_type": "code",
   "execution_count": 8,
   "id": "74ba151e-f0c1-4b8d-af2b-8e14c5b47af5",
   "metadata": {},
   "outputs": [
    {
     "name": "stdout",
     "output_type": "stream",
     "text": [
      "[2, 4]\n",
      "[2, 4]\n"
     ]
    }
   ],
   "source": [
    "# copy with filtering\n",
    "def is_even(x):\n",
    "    return x % 2 == 0\n",
    "\n",
    "a = [1, 2, 3, 4]\n",
    "print(list(filter(is_even, a)))\n",
    "\n",
    "# same as...\n",
    "print([x for x in a if is_even(x)])"
   ]
  },
  {
   "cell_type": "code",
   "execution_count": 9,
   "id": "f928ec97-0078-4133-b237-665e4a7eba1a",
   "metadata": {},
   "outputs": [
    {
     "name": "stdout",
     "output_type": "stream",
     "text": [
      "[2, 4]\n"
     ]
    }
   ],
   "source": [
    "# using a lambda\n",
    "print(list(filter(lambda x: x % 2 == 0, a)))"
   ]
  },
  {
   "cell_type": "markdown",
   "id": "6f4cc2b3-d5a7-45a7-98e1-0197a985f1d8",
   "metadata": {},
   "source": [
    "## 2. Accessing list items"
   ]
  },
  {
   "cell_type": "code",
   "execution_count": 10,
   "id": "b16d8e87-4591-4f8b-8404-29d68e84e5a7",
   "metadata": {},
   "outputs": [
    {
     "data": {
      "text/plain": [
       "3"
      ]
     },
     "execution_count": 10,
     "metadata": {},
     "output_type": "execute_result"
    }
   ],
   "source": [
    "# in reverse\n",
    "a = [1, 2, 3]\n",
    "a[-1]"
   ]
  },
  {
   "cell_type": "code",
   "execution_count": 11,
   "id": "126b3639-e810-4faa-9f66-73d854a29b50",
   "metadata": {},
   "outputs": [
    {
     "data": {
      "text/plain": [
       "[2, 3]"
      ]
     },
     "execution_count": 11,
     "metadata": {},
     "output_type": "execute_result"
    }
   ],
   "source": [
    "# a range\n",
    "a = [1, 2, 3, 4]\n",
    "a[1:3]"
   ]
  },
  {
   "cell_type": "code",
   "execution_count": 12,
   "id": "b8fb45f4-f14a-4bc4-aa18-747af141234c",
   "metadata": {},
   "outputs": [
    {
     "data": {
      "text/plain": [
       "1"
      ]
     },
     "execution_count": 12,
     "metadata": {},
     "output_type": "execute_result"
    }
   ],
   "source": [
    "# index of first instance of item\n",
    "a = ['a', 'b', 'c', 'b', 'a']\n",
    "a.index('b')"
   ]
  },
  {
   "cell_type": "code",
   "execution_count": 13,
   "id": "54dce9ad-affc-4321-92a8-385bbbed2734",
   "metadata": {},
   "outputs": [
    {
     "data": {
      "text/plain": [
       "3"
      ]
     },
     "execution_count": 13,
     "metadata": {},
     "output_type": "execute_result"
    }
   ],
   "source": [
    "# index of next instance of item\n",
    "a = ['a', 'b', 'c', 'b', 'a']\n",
    "a.index('b', a.index('b') + 1)"
   ]
  },
  {
   "cell_type": "code",
   "execution_count": 14,
   "id": "8ea63ba0-e4b3-404c-93f2-b2a017225888",
   "metadata": {},
   "outputs": [
    {
     "name": "stdout",
     "output_type": "stream",
     "text": [
      "0 a\n",
      "1 b\n",
      "2 c\n"
     ]
    }
   ],
   "source": [
    "# iterating with index and value\n",
    "a = ['a', 'b', 'c']\n",
    "\n",
    "for i, v in enumerate(a):\n",
    "    print(i, v)"
   ]
  },
  {
   "cell_type": "markdown",
   "id": "8a33900d-c5ef-43f0-b3cd-533e56bfd412",
   "metadata": {},
   "source": [
    "## 3. Inspecting lists"
   ]
  },
  {
   "cell_type": "code",
   "execution_count": 15,
   "id": "3d0e7a4c-b061-47b3-9045-0a5024254f97",
   "metadata": {},
   "outputs": [
    {
     "data": {
      "text/plain": [
       "2"
      ]
     },
     "execution_count": 15,
     "metadata": {},
     "output_type": "execute_result"
    }
   ],
   "source": [
    "# count of items\n",
    "a = [1, 2, 3, 2, 1]\n",
    "a.count(2)"
   ]
  },
  {
   "cell_type": "code",
   "execution_count": 16,
   "id": "f0cab1ef-2a1f-4dc5-b6dc-96f990b6955c",
   "metadata": {},
   "outputs": [
    {
     "data": {
      "text/plain": [
       "[1, 2, 3]"
      ]
     },
     "execution_count": 16,
     "metadata": {},
     "output_type": "execute_result"
    }
   ],
   "source": [
    "# unique items\n",
    "a = [1, 2, 3, 2, 1]\n",
    "list(set(a))"
   ]
  },
  {
   "cell_type": "code",
   "execution_count": 17,
   "id": "8f88bad4-a898-4cb6-b19a-4eece3ce0537",
   "metadata": {},
   "outputs": [
    {
     "name": "stdout",
     "output_type": "stream",
     "text": [
      "True\n",
      "False\n"
     ]
    }
   ],
   "source": [
    "# check if all items in a list are True\n",
    "a = [True, True]\n",
    "print(all(a))\n",
    "\n",
    "a = [True, False]\n",
    "print(all(a))"
   ]
  },
  {
   "cell_type": "code",
   "execution_count": 18,
   "id": "1d364fba-fb17-46e7-9cc1-637a13f8c88d",
   "metadata": {},
   "outputs": [
    {
     "data": {
      "text/plain": [
       "3"
      ]
     },
     "execution_count": 18,
     "metadata": {},
     "output_type": "execute_result"
    }
   ],
   "source": [
    "# maximal value\n",
    "a = [1, 2, 3]\n",
    "max(a)"
   ]
  },
  {
   "cell_type": "code",
   "execution_count": 19,
   "id": "594b6039-a265-4ef9-8c20-3134d4aaf157",
   "metadata": {},
   "outputs": [
    {
     "data": {
      "text/plain": [
       "1"
      ]
     },
     "execution_count": 19,
     "metadata": {},
     "output_type": "execute_result"
    }
   ],
   "source": [
    "# minimal value\n",
    "a = [1, 2, 3]\n",
    "min(a)"
   ]
  },
  {
   "cell_type": "code",
   "execution_count": 20,
   "id": "70fb2786-10a6-47a6-b3eb-b1ddee369f69",
   "metadata": {},
   "outputs": [
    {
     "data": {
      "text/plain": [
       "6"
      ]
     },
     "execution_count": 20,
     "metadata": {},
     "output_type": "execute_result"
    }
   ],
   "source": [
    "# sum of values\n",
    "a = [1, 2, 3]\n",
    "sum(a)"
   ]
  },
  {
   "cell_type": "markdown",
   "id": "971bf91b-5775-4661-952f-2ef0353d650d",
   "metadata": {},
   "source": [
    "## 4. Modifying lists"
   ]
  },
  {
   "cell_type": "markdown",
   "id": "ff9fdfd8-841f-4456-82ca-c5aec422dc99",
   "metadata": {},
   "source": [
    "### 4.1 Adding items"
   ]
  },
  {
   "cell_type": "code",
   "execution_count": 21,
   "id": "dfd8c9a7-9800-4fe0-8a8c-eda53b5e1736",
   "metadata": {},
   "outputs": [
    {
     "name": "stdout",
     "output_type": "stream",
     "text": [
      "['a', 'b', 'c']\n",
      "['a', 'b', 'c']\n"
     ]
    }
   ],
   "source": [
    "# add an item to the end\n",
    "a = ['a', 'b']\n",
    "a.append('c')\n",
    "print(a)\n",
    "\n",
    "# add an item at index\n",
    "a = ['a', 'c']\n",
    "a.insert(1, 'b')\n",
    "print(a)"
   ]
  },
  {
   "cell_type": "code",
   "execution_count": 22,
   "id": "3308297e-5835-425e-8268-72421458d536",
   "metadata": {},
   "outputs": [
    {
     "name": "stdout",
     "output_type": "stream",
     "text": [
      "[1, 2, 3, 4]\n",
      "[1, 2, 3, 4]\n"
     ]
    }
   ],
   "source": [
    "# append a list to a list\n",
    "a = [1, 2]\n",
    "b = [3, 4]\n",
    "print(a + b)\n",
    "\n",
    "# also append a list to a list\n",
    "a = [1, 2]\n",
    "b = [3, 4]\n",
    "a.extend(b)\n",
    "print(a)"
   ]
  },
  {
   "cell_type": "markdown",
   "id": "1ca98d41-9f6d-423b-b439-bb7d866f3c90",
   "metadata": {},
   "source": [
    "### 4.2 Removing items"
   ]
  },
  {
   "cell_type": "code",
   "execution_count": 23,
   "id": "c505be87-29c6-486f-8404-690552897a26",
   "metadata": {},
   "outputs": [
    {
     "name": "stdout",
     "output_type": "stream",
     "text": [
      "['a', 'c']\n"
     ]
    }
   ],
   "source": [
    "# removing item at index\n",
    "a = ['a', 'b', 'c']\n",
    "a.pop(1)\n",
    "print(a)"
   ]
  },
  {
   "cell_type": "code",
   "execution_count": 24,
   "id": "29791d3d-07e5-4936-8e84-3954ecbe9f74",
   "metadata": {},
   "outputs": [
    {
     "name": "stdout",
     "output_type": "stream",
     "text": [
      "['b', 'c', 'b', 'a']\n"
     ]
    }
   ],
   "source": [
    "# remove first instance of item\n",
    "a = ['a', 'b', 'c', 'b', 'a']\n",
    "a.remove('a')\n",
    "print(a)"
   ]
  },
  {
   "cell_type": "code",
   "execution_count": 25,
   "id": "af9311da-cd91-4a7b-b0d8-0f7ac85f00e2",
   "metadata": {},
   "outputs": [
    {
     "name": "stdout",
     "output_type": "stream",
     "text": [
      "['a', 'c']\n"
     ]
    }
   ],
   "source": [
    "# remove item without retrieving it (as with pop)\n",
    "a = ['a', 'b', 'c']\n",
    "del a[1]\n",
    "print(a)"
   ]
  },
  {
   "cell_type": "code",
   "execution_count": 26,
   "id": "f0b11703-a8ab-4164-9202-acc58a1ef2af",
   "metadata": {},
   "outputs": [
    {
     "data": {
      "text/plain": [
       "['a', 'e']"
      ]
     },
     "execution_count": 26,
     "metadata": {},
     "output_type": "execute_result"
    }
   ],
   "source": [
    "# remove a range (slice) of items\n",
    "a = ['a', 'b', 'c', 'd', 'e']\n",
    "a[1:4] = []\n",
    "a"
   ]
  },
  {
   "cell_type": "markdown",
   "id": "4ea1c4d2-5456-4406-bdb7-f754931ea029",
   "metadata": {},
   "source": [
    "### 4.3 Changing order of list items"
   ]
  },
  {
   "cell_type": "code",
   "execution_count": 27,
   "id": "48e6b021-3bdf-4712-939c-c8f4e39918a6",
   "metadata": {},
   "outputs": [
    {
     "name": "stdout",
     "output_type": "stream",
     "text": [
      "['a', 'b', 'c']\n"
     ]
    }
   ],
   "source": [
    "# sort in place\n",
    "a = ['b', 'c', 'a']\n",
    "a.sort()\n",
    "print(a)"
   ]
  },
  {
   "cell_type": "code",
   "execution_count": 28,
   "id": "256632a5-98ec-4831-888e-97cc9b97984c",
   "metadata": {},
   "outputs": [
    {
     "name": "stdout",
     "output_type": "stream",
     "text": [
      "['c', 'b', 'a']\n"
     ]
    }
   ],
   "source": [
    "# sort reverse\n",
    "a = ['a', 'b', 'c']\n",
    "a.sort(reverse=True)\n",
    "print(a)"
   ]
  },
  {
   "cell_type": "code",
   "execution_count": 29,
   "id": "aa770ee3-dfcd-47f8-b3ef-b6ca6b1e0ab3",
   "metadata": {},
   "outputs": [
    {
     "name": "stdout",
     "output_type": "stream",
     "text": [
      "['c', 'b', 'a']\n"
     ]
    }
   ],
   "source": [
    "# reverse (without sorting)\n",
    "a = ['a', 'b', 'c']\n",
    "a.reverse()\n",
    "print(a)"
   ]
  },
  {
   "cell_type": "code",
   "execution_count": 30,
   "id": "8e872e58-8a4b-4568-90a0-f1e78b45e676",
   "metadata": {},
   "outputs": [
    {
     "data": {
      "text/plain": [
       "['a', 'b', 'c']"
      ]
     },
     "execution_count": 30,
     "metadata": {},
     "output_type": "execute_result"
    }
   ],
   "source": [
    "# sort into new list\n",
    "a = ['b', 'c', 'a']\n",
    "sorted(a)"
   ]
  },
  {
   "cell_type": "markdown",
   "id": "a5f00b2f-a22a-4878-91a6-c98b4aff41a2",
   "metadata": {},
   "source": [
    "### 4.4 Clearing list items"
   ]
  },
  {
   "cell_type": "code",
   "execution_count": 31,
   "id": "2d595088-7779-447e-9e37-60bb71f83daa",
   "metadata": {},
   "outputs": [
    {
     "name": "stdout",
     "output_type": "stream",
     "text": [
      "[]\n"
     ]
    }
   ],
   "source": [
    "# clear (use this, it's most obvious)\n",
    "a = ['a', 'b', 'c']\n",
    "a.clear()\n",
    "print(a)"
   ]
  },
  {
   "cell_type": "code",
   "execution_count": 32,
   "id": "384d4202-fc18-4214-b656-d843dd64fa8d",
   "metadata": {},
   "outputs": [
    {
     "name": "stdout",
     "output_type": "stream",
     "text": [
      "[]\n"
     ]
    }
   ],
   "source": [
    "# clear using del\n",
    "a = ['a', 'b', 'c']\n",
    "del a[:]\n",
    "print(a)"
   ]
  },
  {
   "cell_type": "markdown",
   "id": "f58424c6-8122-43ef-9aba-7a3ad319d58e",
   "metadata": {},
   "source": [
    "## 5. Multi-dimension lists\n",
    "\n",
    "There are a few ways to initialize multi-dimensional arrays in Python. One way has a potemtial gotcha."
   ]
  },
  {
   "cell_type": "code",
   "execution_count": 33,
   "id": "a4faceaa-5b88-4ced-9847-d7ea20e132c6",
   "metadata": {},
   "outputs": [
    {
     "name": "stdout",
     "output_type": "stream",
     "text": [
      "[[1, 0, 0, 0, 0], [1, 0, 0, 0, 0], [1, 0, 0, 0, 0], [1, 0, 0, 0, 0]]\n"
     ]
    }
   ],
   "source": [
    "cols = 5\n",
    "rows = 4\n",
    "\n",
    "# create a NxM deminsional array, but with each row duplicated!\n",
    "a = [[0]*cols]*rows\n",
    "a[0][0] = 1\n",
    "print(a)"
   ]
  },
  {
   "cell_type": "code",
   "execution_count": 34,
   "id": "206ff81d-76c3-4d2c-b81a-528c0d35ff9a",
   "metadata": {},
   "outputs": [
    {
     "name": "stdout",
     "output_type": "stream",
     "text": [
      "[[1, 0, 0, 0, 0], [0, 0, 0, 0, 0], [0, 0, 0, 0, 0], [0, 0, 0, 0, 0]]\n"
     ]
    }
   ],
   "source": [
    "# each row is unique\n",
    "a = [[0]*cols for _ in [0]*rows]\n",
    "a[0][0] = 1\n",
    "print(a)"
   ]
  },
  {
   "cell_type": "code",
   "execution_count": 35,
   "id": "0d48258e-9dc7-4dcb-8adf-8c265946a9a0",
   "metadata": {},
   "outputs": [
    {
     "name": "stdout",
     "output_type": "stream",
     "text": [
      "[[1, 0, 0, 0, 0], [0, 0, 0, 0, 0], [0, 0, 0, 0, 0], [0, 0, 0, 0, 0]]\n"
     ]
    }
   ],
   "source": [
    "# each row is unique, with cleaner syntaxm if all elements are the same\n",
    "a = [[0]*cols for _ in range(rows)]\n",
    "a[0][0] = 1\n",
    "print(a)"
   ]
  },
  {
   "cell_type": "code",
   "execution_count": 36,
   "id": "ba938c64-b31b-4ce5-9319-478863bbf89e",
   "metadata": {},
   "outputs": [
    {
     "data": {
      "text/plain": [
       "[[0, 1, 2, 3, 4],\n",
       " [0, 1, 2, 3, 4],\n",
       " [0, 1, 2, 3, 4],\n",
       " [0, 1, 2, 3, 4],\n",
       " [0, 1, 2, 3, 4]]"
      ]
     },
     "execution_count": 36,
     "metadata": {},
     "output_type": "execute_result"
    }
   ],
   "source": [
    "# using nested list comprehension\n",
    "[[j for j in range(5)] for i in range(5)]"
   ]
  },
  {
   "cell_type": "code",
   "execution_count": 37,
   "id": "0e31c5c1-2945-4cdd-902c-39f569944833",
   "metadata": {},
   "outputs": [
    {
     "data": {
      "text/plain": [
       "[1, 2, 3, 4, 5, 6, 7, 8, 9]"
      ]
     },
     "execution_count": 37,
     "metadata": {},
     "output_type": "execute_result"
    }
   ],
   "source": [
    "# flatten matrix\n",
    "a = [[1, 2, 3], [4, 5, 6], [7, 8, 9]]\n",
    "\n",
    "[x for row in a for x in row]"
   ]
  },
  {
   "cell_type": "code",
   "execution_count": 38,
   "id": "746dc7c3-1853-42ca-b450-39c962770b3c",
   "metadata": {},
   "outputs": [
    {
     "data": {
      "text/plain": [
       "[[2, 3, 4], [5, 6, 7], [8, 9, 10]]"
      ]
     },
     "execution_count": 38,
     "metadata": {},
     "output_type": "execute_result"
    }
   ],
   "source": [
    "# transform matrix\n",
    "a = [[1, 2, 3], [4, 5, 6], [7, 8, 9]]\n",
    "\n",
    "[[x + 1 for x in row] for row in a]"
   ]
  },
  {
   "cell_type": "markdown",
   "id": "1ba291aa-c64c-4855-b86e-711089b2e6db",
   "metadata": {},
   "source": [
    "## 6. List slicing\n",
    "\n",
    "Portions of lists (and strings!) can be accessed using the notation:\n",
    "\n",
    "```python\n",
    "a[start:stop:step]\n",
    "```\n",
    "\n",
    "Note that the slice will NOT include the item at the stop index. *stop* is the item after the slice."
   ]
  },
  {
   "cell_type": "code",
   "execution_count": 39,
   "id": "e4575713-7d91-4b74-ac56-895861094ddd",
   "metadata": {},
   "outputs": [
    {
     "data": {
      "text/plain": [
       "[1, 2]"
      ]
     },
     "execution_count": 39,
     "metadata": {},
     "output_type": "execute_result"
    }
   ],
   "source": [
    "# get the fist two items in a list\n",
    "a = [1, 2, 3]\n",
    "a[0:2]"
   ]
  },
  {
   "cell_type": "code",
   "execution_count": 40,
   "id": "cc01183a-4865-4d8c-be32-ce2ebd2419a7",
   "metadata": {},
   "outputs": [
    {
     "data": {
      "text/plain": [
       "[1, 2]"
      ]
     },
     "execution_count": 40,
     "metadata": {},
     "output_type": "execute_result"
    }
   ],
   "source": [
    "# shorthand. start index defaults to 0\n",
    "a = [1, 2, 3]\n",
    "a[:2]"
   ]
  },
  {
   "cell_type": "code",
   "execution_count": 41,
   "id": "c9d61b60-e43c-4ca0-8800-abdd98d9cdc7",
   "metadata": {},
   "outputs": [
    {
     "data": {
      "text/plain": [
       "[2, 3]"
      ]
     },
     "execution_count": 41,
     "metadata": {},
     "output_type": "execute_result"
    }
   ],
   "source": [
    "# exerything but the first (from 1 to end). No need to include len(n) for stop.\n",
    "a = [1, 2, 3]\n",
    "a[1:]"
   ]
  },
  {
   "cell_type": "code",
   "execution_count": 42,
   "id": "42ea14bb-b5c7-423a-a993-e3a304d56190",
   "metadata": {},
   "outputs": [
    {
     "data": {
      "text/plain": [
       "3"
      ]
     },
     "execution_count": 42,
     "metadata": {},
     "output_type": "execute_result"
    }
   ],
   "source": [
    "# last item\n",
    "a = [1, 2, 3]\n",
    "a[-1]"
   ]
  },
  {
   "cell_type": "code",
   "execution_count": 43,
   "id": "b3c090c9-684c-42ab-997f-4a4f3e1f9d38",
   "metadata": {},
   "outputs": [
    {
     "data": {
      "text/plain": [
       "[2, 3]"
      ]
     },
     "execution_count": 43,
     "metadata": {},
     "output_type": "execute_result"
    }
   ],
   "source": [
    "# last 2 items\n",
    "a = [1, 2, 3]\n",
    "a[-2:]"
   ]
  },
  {
   "cell_type": "code",
   "execution_count": 44,
   "id": "73c44d9b-f145-4fde-bb94-bd904230f19f",
   "metadata": {},
   "outputs": [
    {
     "data": {
      "text/plain": [
       "[1, 3]"
      ]
     },
     "execution_count": 44,
     "metadata": {},
     "output_type": "execute_result"
    }
   ],
   "source": [
    "# every other\n",
    "a = [1, 2, 3, 4]\n",
    "a[::2]"
   ]
  },
  {
   "cell_type": "code",
   "execution_count": 45,
   "id": "ff4d8db1-a676-4146-b12f-ac622c4c29e7",
   "metadata": {},
   "outputs": [
    {
     "data": {
      "text/plain": [
       "[3, 2, 1]"
      ]
     },
     "execution_count": 45,
     "metadata": {},
     "output_type": "execute_result"
    }
   ],
   "source": [
    "# reverse order\n",
    "a = [1, 2, 3]\n",
    "a[::-1]"
   ]
  },
  {
   "cell_type": "markdown",
   "id": "3e04e780-450d-4987-8d54-17f4afa44ff2",
   "metadata": {},
   "source": [
    "## 7. List comprehension"
   ]
  },
  {
   "cell_type": "markdown",
   "id": "21bd9bbe-27e6-419d-b7e9-9e9de63f666a",
   "metadata": {},
   "source": [
    "### 7.1 Basic syntax\n",
    "\n",
    "New lists can easily be created from existing lists in a single line.\n",
    "\n",
    "```python\n",
    "[expression for x in some_list]\n",
    "```\n",
    "\n",
    "For each item in some_list, add an item in a new list following an expression."
   ]
  },
  {
   "cell_type": "code",
   "execution_count": 46,
   "id": "86554779-4527-4106-a0e3-566d0ae519d2",
   "metadata": {},
   "outputs": [
    {
     "data": {
      "text/plain": [
       "[2, 3, 4]"
      ]
     },
     "execution_count": 46,
     "metadata": {},
     "output_type": "execute_result"
    }
   ],
   "source": [
    "# without list comprehension\n",
    "some_list = [1, 2, 3]\n",
    "new_list = []\n",
    "\n",
    "for x in some_list:\n",
    "    new_list.append(x + 1)\n",
    "\n",
    "new_list"
   ]
  },
  {
   "cell_type": "code",
   "execution_count": 47,
   "id": "9f348611-dacb-4264-a661-38a24b5ec9d8",
   "metadata": {},
   "outputs": [
    {
     "data": {
      "text/plain": [
       "[2, 3, 4]"
      ]
     },
     "execution_count": 47,
     "metadata": {},
     "output_type": "execute_result"
    }
   ],
   "source": [
    "some_list = [1, 2, 3]\n",
    "[x + 1 for x in some_list]"
   ]
  },
  {
   "cell_type": "code",
   "execution_count": 48,
   "id": "a8a735cb-3708-4c27-84bf-ba52b13d089b",
   "metadata": {},
   "outputs": [
    {
     "data": {
      "text/plain": [
       "[False, True, False, True]"
      ]
     },
     "execution_count": 48,
     "metadata": {},
     "output_type": "execute_result"
    }
   ],
   "source": [
    "# the expression can be more complex\n",
    "some_list = [1, 2, 3, 4]\n",
    "[x % 2 == 0 for x in some_list]"
   ]
  },
  {
   "cell_type": "markdown",
   "id": "eac28236-6d61-4414-900a-d633468fb87c",
   "metadata": {},
   "source": [
    "### 7.2 Filter conditions\n",
    "\n",
    "List comprehension statements can include a conditional at the end for filtering items.\n",
    "\n",
    "```python\n",
    "[expression for x in some_list if condition == True]\n",
    "```"
   ]
  },
  {
   "cell_type": "code",
   "execution_count": 49,
   "id": "2969b595-bc12-4cf9-b0cc-de5825777b2f",
   "metadata": {},
   "outputs": [
    {
     "data": {
      "text/plain": [
       "[0, 1, 2]"
      ]
     },
     "execution_count": 49,
     "metadata": {},
     "output_type": "execute_result"
    }
   ],
   "source": [
    "# remove all negative numbers\n",
    "some_list = [-2, -1, 0, 1, 2]\n",
    "[x for x in some_list if x >= 0]"
   ]
  },
  {
   "cell_type": "markdown",
   "id": "7ae40335-18cd-4901-a71c-02bb7b6c3fa1",
   "metadata": {},
   "source": [
    "### 7.3 Conditional expressions\n",
    "\n",
    "The expression in a list comprehension statement can be a conditional.\n",
    "\n",
    "```python\n",
    "[a if condition == True else b for x in some_list]\n",
    "```"
   ]
  },
  {
   "cell_type": "code",
   "execution_count": 50,
   "id": "eeb2b71c-a0e7-4993-84df-ce88e4dcd2be",
   "metadata": {},
   "outputs": [
    {
     "data": {
      "text/plain": [
       "[0, 0, 0, 1, 2]"
      ]
     },
     "execution_count": 50,
     "metadata": {},
     "output_type": "execute_result"
    }
   ],
   "source": [
    "# make all negative numbers zero\n",
    "some_list = [-2, -1, 0, 1, 2]\n",
    "[x if x > 0 else 0 for x in some_list]"
   ]
  },
  {
   "cell_type": "markdown",
   "id": "12d1ac98-8b1f-4bcf-a125-01191550b933",
   "metadata": {},
   "source": [
    "### 7.4 With strings\n",
    "\n",
    "Strings are *iterable*, so it's easy to process them one character at a time using list comprehension.\n",
    "\n",
    "Ref: https://www.pythonlikeyoumeanit.com/Module2_EssentialsOfPython/Iterables.html"
   ]
  },
  {
   "cell_type": "code",
   "execution_count": 51,
   "id": "5706c3cc-336a-45c5-8ab7-08876f555948",
   "metadata": {},
   "outputs": [
    {
     "data": {
      "text/plain": [
       "['a', 'e', 'i', 'o', 'u']"
      ]
     },
     "execution_count": 51,
     "metadata": {},
     "output_type": "execute_result"
    }
   ],
   "source": [
    "[x for x in 'aeiou']"
   ]
  },
  {
   "cell_type": "code",
   "execution_count": 52,
   "id": "32113649-80fb-44e5-9e4e-c33bdb768255",
   "metadata": {},
   "outputs": [
    {
     "data": {
      "text/plain": [
       "'Nw s th tm fr ll gd ctzns t cm t th d f thr cntry.'"
      ]
     },
     "execution_count": 52,
     "metadata": {},
     "output_type": "execute_result"
    }
   ],
   "source": [
    "# remove all vowels from the input string\n",
    "some_string = 'Now is the time for all good citizens to come to the aid of their country.'\n",
    "''.join('' if x in 'aeiou' else x for x in some_string)"
   ]
  },
  {
   "cell_type": "code",
   "execution_count": 53,
   "id": "2d0f0c86-e153-4641-a31c-3197542c6ae7",
   "metadata": {},
   "outputs": [
    {
     "data": {
      "text/plain": [
       "[1, 2, 3, 4, 5, 6, 7, 8, 9, 0]"
      ]
     },
     "execution_count": 53,
     "metadata": {},
     "output_type": "execute_result"
    }
   ],
   "source": [
    "# create a list of digits in a integer\n",
    "some_int = 1234567890\n",
    "[int(x) for x in str(some_int)]"
   ]
  }
 ],
 "metadata": {
  "kernelspec": {
   "display_name": "Python 3 (ipykernel)",
   "language": "python",
   "name": "python3"
  },
  "language_info": {
   "codemirror_mode": {
    "name": "ipython",
    "version": 3
   },
   "file_extension": ".py",
   "mimetype": "text/x-python",
   "name": "python",
   "nbconvert_exporter": "python",
   "pygments_lexer": "ipython3",
   "version": "3.12.3"
  }
 },
 "nbformat": 4,
 "nbformat_minor": 5
}
