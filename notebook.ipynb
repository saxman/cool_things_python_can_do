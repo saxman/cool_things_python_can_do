{
 "cells": [
  {
   "cell_type": "markdown",
   "id": "98000ff8-9567-490b-968c-e0aadf4264b5",
   "metadata": {},
   "source": [
    "## 1. Return with conditional\n",
    "\n",
    "Functions can include a conditional in their return.\n",
    "\n",
    "```python\n",
    "return a if conditional else b\n",
    "```\n",
    "\n",
    "This helps to avoid having multiple returns in single function."
   ]
  },
  {
   "cell_type": "code",
   "execution_count": 2,
   "id": "2523f5de-fc86-451c-af31-cac76c087735",
   "metadata": {},
   "outputs": [
    {
     "name": "stdout",
     "output_type": "stream",
     "text": [
      "False\n",
      "True\n"
     ]
    }
   ],
   "source": [
    "def bad_is_even(a):\n",
    "    if a % 2 == 0:\n",
    "        return True\n",
    "        \n",
    "    return False\n",
    "\n",
    "print(bad_is_even(1))\n",
    "print(bad_is_even(2))"
   ]
  },
  {
   "cell_type": "code",
   "execution_count": 3,
   "id": "7a58886c-4e40-4d4e-aa3f-e33589fd647d",
   "metadata": {},
   "outputs": [
    {
     "name": "stdout",
     "output_type": "stream",
     "text": [
      "False\n",
      "True\n"
     ]
    }
   ],
   "source": [
    "def good_is_even(a):\n",
    "    return True if a % 2 == 0 else False\n",
    "\n",
    "print(good_is_even(1))\n",
    "print(good_is_even(2))"
   ]
  },
  {
   "cell_type": "markdown",
   "id": "14c428fa-6c4f-409d-859f-523ac4c5f5a6",
   "metadata": {},
   "source": [
    "## 2. List comprehension (basic)\n",
    "\n",
    "New lists can easily be created from existing lists.\n",
    "\n",
    "```python\n",
    "[expression for x in some_list]\n",
    "```\n",
    "\n",
    "For each item in some_list, add an item in a new list following an expression."
   ]
  },
  {
   "cell_type": "code",
   "execution_count": 10,
   "id": "86554779-4527-4106-a0e3-566d0ae519d2",
   "metadata": {},
   "outputs": [
    {
     "data": {
      "text/plain": [
       "[2, 3, 4]"
      ]
     },
     "execution_count": 10,
     "metadata": {},
     "output_type": "execute_result"
    }
   ],
   "source": [
    "# without list comprehension\n",
    "some_list = [1, 2, 3]\n",
    "new_list = []\n",
    "\n",
    "for x in some_list:\n",
    "    new_list.append(x + 1)\n",
    "\n",
    "new_list"
   ]
  },
  {
   "cell_type": "code",
   "execution_count": 8,
   "id": "9f348611-dacb-4264-a661-38a24b5ec9d8",
   "metadata": {},
   "outputs": [
    {
     "data": {
      "text/plain": [
       "[2, 3, 4]"
      ]
     },
     "execution_count": 8,
     "metadata": {},
     "output_type": "execute_result"
    }
   ],
   "source": [
    "some_list = [1, 2, 3]\n",
    "[x + 1 for x in some_list]"
   ]
  },
  {
   "cell_type": "code",
   "execution_count": 18,
   "id": "a8a735cb-3708-4c27-84bf-ba52b13d089b",
   "metadata": {},
   "outputs": [
    {
     "data": {
      "text/plain": [
       "[False, True, False, True]"
      ]
     },
     "execution_count": 18,
     "metadata": {},
     "output_type": "execute_result"
    }
   ],
   "source": [
    "# the expression can be more complex\n",
    "some_list = [1, 2, 3, 4]\n",
    "[x % 2 == 0 for x in some_list]"
   ]
  },
  {
   "cell_type": "markdown",
   "id": "eac28236-6d61-4414-900a-d633468fb87c",
   "metadata": {},
   "source": [
    "## 3. List comprehension (with filter condition)\n",
    "\n",
    "List comprehension statements can include a conditional at the end for filtering items.\n",
    "\n",
    "```python\n",
    "[expression for x in some_list if condition == True]\n",
    "```"
   ]
  },
  {
   "cell_type": "code",
   "execution_count": 20,
   "id": "2969b595-bc12-4cf9-b0cc-de5825777b2f",
   "metadata": {},
   "outputs": [
    {
     "data": {
      "text/plain": [
       "[0, 1, 2]"
      ]
     },
     "execution_count": 20,
     "metadata": {},
     "output_type": "execute_result"
    }
   ],
   "source": [
    "# remove all negative numbers\n",
    "some_list = [-2, -1, 0, 1, 2]\n",
    "[x for x in some_list if x >= 0]"
   ]
  },
  {
   "cell_type": "markdown",
   "id": "7ae40335-18cd-4901-a71c-02bb7b6c3fa1",
   "metadata": {},
   "source": [
    "## 4. List comprehension (with conditional expression)\n",
    "\n",
    "The expression in a list comprehension statement can be a conditional.\n",
    "\n",
    "```python\n",
    "[a if condition == True else b for x in some_list]\n",
    "```"
   ]
  },
  {
   "cell_type": "code",
   "execution_count": 21,
   "id": "eeb2b71c-a0e7-4993-84df-ce88e4dcd2be",
   "metadata": {},
   "outputs": [
    {
     "data": {
      "text/plain": [
       "[0, 0, 0, 1, 2]"
      ]
     },
     "execution_count": 21,
     "metadata": {},
     "output_type": "execute_result"
    }
   ],
   "source": [
    "# make all negative numbers zero\n",
    "some_list = [-2, -1, 0, 1, 2]\n",
    "[x if x > 0 else 0 for x in some_list]"
   ]
  },
  {
   "cell_type": "markdown",
   "id": "58f3e2d9-1132-44bf-804c-cc576b9e0a16",
   "metadata": {},
   "source": [
    "## 5. String concatenation [str.join(iterable)]\n",
    "\n",
    "A list of strings can quickly be concatenated.\n",
    "\n",
    "```python\n",
    "str.join(iterable)\n",
    "```"
   ]
  },
  {
   "cell_type": "code",
   "execution_count": 26,
   "id": "d0818ab7-3c46-4c56-a562-1d1312107ccd",
   "metadata": {},
   "outputs": [
    {
     "data": {
      "text/plain": [
       "'pneumonoultramicroscopicsilicovolcanoconiosis'"
      ]
     },
     "execution_count": 26,
     "metadata": {},
     "output_type": "execute_result"
    }
   ],
   "source": [
    "some_string = ['pneumono', 'ultra', 'microscopic', 'silico', 'volcano',  'coniosis']\n",
    "''.join(some_string)"
   ]
  },
  {
   "cell_type": "markdown",
   "id": "12d1ac98-8b1f-4bcf-a125-01191550b933",
   "metadata": {},
   "source": [
    "## 6. List comprehension (with strings)"
   ]
  },
  {
   "cell_type": "code",
   "execution_count": 29,
   "id": "32113649-80fb-44e5-9e4e-c33bdb768255",
   "metadata": {},
   "outputs": [
    {
     "data": {
      "text/plain": [
       "'Nw s th tm fr ll gd ctzns t cm t th d f thr cntry.'"
      ]
     },
     "execution_count": 29,
     "metadata": {},
     "output_type": "execute_result"
    }
   ],
   "source": [
    "# remove all vowels from the input string\n",
    "some_string = 'Now is the time for all good citizens to come to the aid of their country.'\n",
    "''.join('' if x in 'aeiou' else x for x in some_string)"
   ]
  },
  {
   "cell_type": "code",
   "execution_count": 30,
   "id": "2d0f0c86-e153-4641-a31c-3197542c6ae7",
   "metadata": {},
   "outputs": [
    {
     "data": {
      "text/plain": [
       "[1, 2, 3, 4, 5, 6, 7, 8, 9, 0]"
      ]
     },
     "execution_count": 30,
     "metadata": {},
     "output_type": "execute_result"
    }
   ],
   "source": [
    "# create a list of digits in a integer\n",
    "some_int = 1234567890\n",
    "[int(x) for x in str(some_int)]"
   ]
  },
  {
   "cell_type": "markdown",
   "id": "506b721f-3237-4df7-8b11-d334cf5ee53d",
   "metadata": {},
   "source": [
    "## 7. String constants"
   ]
  },
  {
   "cell_type": "code",
   "execution_count": 20,
   "id": "410806f8-48c0-481a-84d1-13a44a6cf43e",
   "metadata": {},
   "outputs": [
    {
     "data": {
      "text/plain": [
       "'abcdefghijklmnopqrstuvwxyzABCDEFGHIJKLMNOPQRSTUVWXYZ'"
      ]
     },
     "execution_count": 20,
     "metadata": {},
     "output_type": "execute_result"
    }
   ],
   "source": [
    "import string\n",
    "\n",
    "string.ascii_letters"
   ]
  },
  {
   "cell_type": "code",
   "execution_count": 21,
   "id": "17223aa3-8d38-4ea5-be3a-c8f7483c7240",
   "metadata": {},
   "outputs": [
    {
     "name": "stdout",
     "output_type": "stream",
     "text": [
      "abcdefghijklmnopqrstuvwxyz\n",
      "97 122\n",
      "abcdefghijklmnopqrstuvwxyz\n"
     ]
    }
   ],
   "source": [
    "print(string.ascii_lowercase)\n",
    "\n",
    "print(ord('a'), ord('z'))\n",
    "print(''.join(chr(x) for x in range(ord('a'), ord('z') + 1)))"
   ]
  },
  {
   "cell_type": "code",
   "execution_count": 22,
   "id": "9233749b-e088-4b0a-ba70-06d0fbde5fab",
   "metadata": {},
   "outputs": [
    {
     "name": "stdout",
     "output_type": "stream",
     "text": [
      "ABCDEFGHIJKLMNOPQRSTUVWXYZ\n",
      "65 90\n",
      "ABCDEFGHIJKLMNOPQRSTUVWXYZ\n"
     ]
    }
   ],
   "source": [
    "print(string.ascii_uppercase)\n",
    "\n",
    "print(ord('A'), ord('Z'))\n",
    "print(''.join(chr(x) for x in range(ord('A'), ord('Z') + 1)))"
   ]
  },
  {
   "cell_type": "code",
   "execution_count": 23,
   "id": "cc0f42e1-c728-4ac8-be62-830f510e5df9",
   "metadata": {},
   "outputs": [
    {
     "name": "stdout",
     "output_type": "stream",
     "text": [
      "0123456789\n",
      "48 57\n",
      "0123456789\n"
     ]
    }
   ],
   "source": [
    "print(string.digits)\n",
    "\n",
    "print(ord('0'), ord('9'))\n",
    "print(''.join(chr(x) for x in range(ord('0'), ord('9') + 1)))"
   ]
  },
  {
   "cell_type": "code",
   "execution_count": 24,
   "id": "10927e7f-bdae-4804-8209-db0ef19587c9",
   "metadata": {},
   "outputs": [
    {
     "data": {
      "text/plain": [
       "'0123456789abcdefABCDEF'"
      ]
     },
     "execution_count": 24,
     "metadata": {},
     "output_type": "execute_result"
    }
   ],
   "source": [
    "string.hexdigits"
   ]
  },
  {
   "cell_type": "code",
   "execution_count": 25,
   "id": "c407c11b-71b1-4489-ac44-137301c6edc3",
   "metadata": {},
   "outputs": [
    {
     "data": {
      "text/plain": [
       "'01234567'"
      ]
     },
     "execution_count": 25,
     "metadata": {},
     "output_type": "execute_result"
    }
   ],
   "source": [
    "string.octdigits"
   ]
  },
  {
   "cell_type": "code",
   "execution_count": 26,
   "id": "62880091-060f-4539-a661-0d79abf740a8",
   "metadata": {},
   "outputs": [
    {
     "data": {
      "text/plain": [
       "'!\"#$%&\\'()*+,-./:;<=>?@[\\\\]^_`{|}~'"
      ]
     },
     "execution_count": 26,
     "metadata": {},
     "output_type": "execute_result"
    }
   ],
   "source": [
    "string.punctuation"
   ]
  },
  {
   "cell_type": "code",
   "execution_count": 27,
   "id": "2b1aa2e5-30cf-454c-a0d3-6f0771a90c1d",
   "metadata": {},
   "outputs": [
    {
     "data": {
      "text/plain": [
       "'0123456789abcdefghijklmnopqrstuvwxyzABCDEFGHIJKLMNOPQRSTUVWXYZ!\"#$%&\\'()*+,-./:;<=>?@[\\\\]^_`{|}~ \\t\\n\\r\\x0b\\x0c'"
      ]
     },
     "execution_count": 27,
     "metadata": {},
     "output_type": "execute_result"
    }
   ],
   "source": [
    "string.printable"
   ]
  },
  {
   "cell_type": "code",
   "execution_count": 28,
   "id": "c6697848-246c-447d-a88f-f58b113d6266",
   "metadata": {},
   "outputs": [
    {
     "data": {
      "text/plain": [
       "' \\t\\n\\r\\x0b\\x0c'"
      ]
     },
     "execution_count": 28,
     "metadata": {},
     "output_type": "execute_result"
    }
   ],
   "source": [
    "string.whitespace"
   ]
  },
  {
   "cell_type": "markdown",
   "id": "3297aa89-408c-48e7-b359-3f5ce001c0e1",
   "metadata": {},
   "source": [
    "## 8. Math operations"
   ]
  },
  {
   "cell_type": "code",
   "execution_count": 1,
   "id": "2c24cc03-265e-48de-ad77-79cff63e4b91",
   "metadata": {},
   "outputs": [
    {
     "data": {
      "text/plain": [
       "9"
      ]
     },
     "execution_count": 1,
     "metadata": {},
     "output_type": "execute_result"
    }
   ],
   "source": [
    "# exponentiation\n",
    "3 ** 2"
   ]
  },
  {
   "cell_type": "code",
   "execution_count": 2,
   "id": "f0b01420-1f5c-4fb8-b93e-4d33f3b51ea5",
   "metadata": {},
   "outputs": [
    {
     "data": {
      "text/plain": [
       "4"
      ]
     },
     "execution_count": 2,
     "metadata": {},
     "output_type": "execute_result"
    }
   ],
   "source": [
    "# floor division\n",
    "9 // 2"
   ]
  },
  {
   "cell_type": "markdown",
   "id": "eb00c09c-703f-4af8-bb29-3323898b8b4a",
   "metadata": {},
   "source": [
    "## 9. f-strings"
   ]
  },
  {
   "cell_type": "code",
   "execution_count": 3,
   "id": "bf2e50a0-2f64-4e3f-8f1a-ba0478baa7ed",
   "metadata": {},
   "outputs": [
    {
     "data": {
      "text/plain": [
       "'a = 10'"
      ]
     },
     "execution_count": 3,
     "metadata": {},
     "output_type": "execute_result"
    }
   ],
   "source": [
    "# basic\n",
    "a = 10\n",
    "f'a = {a}'"
   ]
  },
  {
   "cell_type": "code",
   "execution_count": 4,
   "id": "13c40f4f-9796-4155-aa99-a2d8fedda7bb",
   "metadata": {},
   "outputs": [
    {
     "data": {
      "text/plain": [
       "'a = 11'"
      ]
     },
     "execution_count": 4,
     "metadata": {},
     "output_type": "execute_result"
    }
   ],
   "source": [
    "# expressions\n",
    "a = 10\n",
    "f'a = {a + 1}'"
   ]
  },
  {
   "cell_type": "code",
   "execution_count": 7,
   "id": "f9a347be-f6f0-40f1-9d59-ed3a91f7c637",
   "metadata": {},
   "outputs": [
    {
     "data": {
      "text/plain": [
       "\"his name is 'Fred'\""
      ]
     },
     "execution_count": 7,
     "metadata": {},
     "output_type": "execute_result"
    }
   ],
   "source": [
    "# representation\n",
    "a = 'Fred'\n",
    "f'his name is {a!r}'"
   ]
  },
  {
   "cell_type": "code",
   "execution_count": null,
   "id": "1d364fba-fb17-46e7-9cc1-637a13f8c88d",
   "metadata": {},
   "outputs": [],
   "source": []
  }
 ],
 "metadata": {
  "kernelspec": {
   "display_name": "Python 3 (ipykernel)",
   "language": "python",
   "name": "python3"
  },
  "language_info": {
   "codemirror_mode": {
    "name": "ipython",
    "version": 3
   },
   "file_extension": ".py",
   "mimetype": "text/x-python",
   "name": "python",
   "nbconvert_exporter": "python",
   "pygments_lexer": "ipython3",
   "version": "3.10.12"
  }
 },
 "nbformat": 4,
 "nbformat_minor": 5
}
