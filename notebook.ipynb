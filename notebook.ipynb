{
 "cells": [
  {
   "cell_type": "markdown",
   "id": "98000ff8-9567-490b-968c-e0aadf4264b5",
   "metadata": {},
   "source": [
    "## 1. Return with conditional\n",
    "\n",
    "Functions can include a conditional in their return.\n",
    "\n",
    "```python\n",
    "return a if conditional else b\n",
    "```\n",
    "\n",
    "This helps to avoid having multiple returns in single function."
   ]
  },
  {
   "cell_type": "code",
   "execution_count": 2,
   "id": "2523f5de-fc86-451c-af31-cac76c087735",
   "metadata": {},
   "outputs": [
    {
     "name": "stdout",
     "output_type": "stream",
     "text": [
      "False\n",
      "True\n"
     ]
    }
   ],
   "source": [
    "def bad_is_even(a):\n",
    "    if a % 2 == 0:\n",
    "        return True\n",
    "        \n",
    "    return False\n",
    "\n",
    "print(bad_is_even(1))\n",
    "print(bad_is_even(2))"
   ]
  },
  {
   "cell_type": "code",
   "execution_count": 3,
   "id": "7a58886c-4e40-4d4e-aa3f-e33589fd647d",
   "metadata": {},
   "outputs": [
    {
     "name": "stdout",
     "output_type": "stream",
     "text": [
      "False\n",
      "True\n"
     ]
    }
   ],
   "source": [
    "def good_is_even(a):\n",
    "    return True if a % 2 == 0 else False\n",
    "\n",
    "print(good_is_even(1))\n",
    "print(good_is_even(2))"
   ]
  },
  {
   "cell_type": "markdown",
   "id": "14c428fa-6c4f-409d-859f-523ac4c5f5a6",
   "metadata": {},
   "source": [
    "## 2. List comprehension (basic)\n",
    "\n",
    "New lists can easily be created from existing lists.\n",
    "\n",
    "```python\n",
    "[expression for x in some_list]\n",
    "```\n",
    "\n",
    "For each item in some_list, add an item in a new list following an expression."
   ]
  },
  {
   "cell_type": "code",
   "execution_count": 10,
   "id": "86554779-4527-4106-a0e3-566d0ae519d2",
   "metadata": {},
   "outputs": [
    {
     "data": {
      "text/plain": [
       "[2, 3, 4]"
      ]
     },
     "execution_count": 10,
     "metadata": {},
     "output_type": "execute_result"
    }
   ],
   "source": [
    "# without list comprehension\n",
    "some_list = [1, 2, 3]\n",
    "new_list = []\n",
    "\n",
    "for x in some_list:\n",
    "    new_list.append(x + 1)\n",
    "\n",
    "new_list"
   ]
  },
  {
   "cell_type": "code",
   "execution_count": 8,
   "id": "9f348611-dacb-4264-a661-38a24b5ec9d8",
   "metadata": {},
   "outputs": [
    {
     "data": {
      "text/plain": [
       "[2, 3, 4]"
      ]
     },
     "execution_count": 8,
     "metadata": {},
     "output_type": "execute_result"
    }
   ],
   "source": [
    "some_list = [1, 2, 3]\n",
    "[x + 1 for x in some_list]"
   ]
  },
  {
   "cell_type": "code",
   "execution_count": 18,
   "id": "a8a735cb-3708-4c27-84bf-ba52b13d089b",
   "metadata": {},
   "outputs": [
    {
     "data": {
      "text/plain": [
       "[False, True, False, True]"
      ]
     },
     "execution_count": 18,
     "metadata": {},
     "output_type": "execute_result"
    }
   ],
   "source": [
    "# the expression can be more complex\n",
    "some_list = [1, 2, 3, 4]\n",
    "[x % 2 == 0 for x in some_list]"
   ]
  },
  {
   "cell_type": "markdown",
   "id": "eac28236-6d61-4414-900a-d633468fb87c",
   "metadata": {},
   "source": [
    "## 3. List comprehension (with filter condition)\n",
    "\n",
    "List comprehension statements can include a conditional at the end for filtering items.\n",
    "\n",
    "```python\n",
    "[expression for x in some_list if condition == True]\n",
    "```"
   ]
  },
  {
   "cell_type": "code",
   "execution_count": 20,
   "id": "2969b595-bc12-4cf9-b0cc-de5825777b2f",
   "metadata": {},
   "outputs": [
    {
     "data": {
      "text/plain": [
       "[0, 1, 2]"
      ]
     },
     "execution_count": 20,
     "metadata": {},
     "output_type": "execute_result"
    }
   ],
   "source": [
    "# remove all negative numbers\n",
    "some_list = [-2, -1, 0, 1, 2]\n",
    "[x for x in some_list if x >= 0]"
   ]
  },
  {
   "cell_type": "markdown",
   "id": "7ae40335-18cd-4901-a71c-02bb7b6c3fa1",
   "metadata": {},
   "source": [
    "## 4. List comprehension (with conditional expression)\n",
    "\n",
    "The expression in a list comprehension statement can be a conditional.\n",
    "\n",
    "```python\n",
    "[a if condition == True else b for x in some_list]\n",
    "```"
   ]
  },
  {
   "cell_type": "code",
   "execution_count": 21,
   "id": "eeb2b71c-a0e7-4993-84df-ce88e4dcd2be",
   "metadata": {},
   "outputs": [
    {
     "data": {
      "text/plain": [
       "[0, 0, 0, 1, 2]"
      ]
     },
     "execution_count": 21,
     "metadata": {},
     "output_type": "execute_result"
    }
   ],
   "source": [
    "# make all negative numbers zero\n",
    "some_list = [-2, -1, 0, 1, 2]\n",
    "[x if x > 0 else 0 for x in some_list]"
   ]
  },
  {
   "cell_type": "markdown",
   "id": "58f3e2d9-1132-44bf-804c-cc576b9e0a16",
   "metadata": {},
   "source": [
    "## 5. String concatenation [str.join(iterable)]\n",
    "\n",
    "A list of strings can quickly be concatenated.\n",
    "\n",
    "```python\n",
    "str.join(iterable)\n",
    "```"
   ]
  },
  {
   "cell_type": "code",
   "execution_count": 26,
   "id": "d0818ab7-3c46-4c56-a562-1d1312107ccd",
   "metadata": {},
   "outputs": [
    {
     "data": {
      "text/plain": [
       "'pneumonoultramicroscopicsilicovolcanoconiosis'"
      ]
     },
     "execution_count": 26,
     "metadata": {},
     "output_type": "execute_result"
    }
   ],
   "source": [
    "some_string = ['pneumono', 'ultra', 'microscopic', 'silico', 'volcano',  'coniosis']\n",
    "''.join(some_string)"
   ]
  },
  {
   "cell_type": "markdown",
   "id": "12d1ac98-8b1f-4bcf-a125-01191550b933",
   "metadata": {},
   "source": [
    "## 6. List comprehension (with strings)"
   ]
  },
  {
   "cell_type": "code",
   "execution_count": 29,
   "id": "32113649-80fb-44e5-9e4e-c33bdb768255",
   "metadata": {},
   "outputs": [
    {
     "data": {
      "text/plain": [
       "'Nw s th tm fr ll gd ctzns t cm t th d f thr cntry.'"
      ]
     },
     "execution_count": 29,
     "metadata": {},
     "output_type": "execute_result"
    }
   ],
   "source": [
    "# remove all vowels from the input string\n",
    "some_string = 'Now is the time for all good citizens to come to the aid of their country.'\n",
    "''.join('' if x in 'aeiou' else x for x in some_string)"
   ]
  },
  {
   "cell_type": "code",
   "execution_count": 30,
   "id": "2d0f0c86-e153-4641-a31c-3197542c6ae7",
   "metadata": {},
   "outputs": [
    {
     "data": {
      "text/plain": [
       "[1, 2, 3, 4, 5, 6, 7, 8, 9, 0]"
      ]
     },
     "execution_count": 30,
     "metadata": {},
     "output_type": "execute_result"
    }
   ],
   "source": [
    "# create a list of digits in a integer\n",
    "some_int = 1234567890\n",
    "[int(x) for x in str(some_int)]"
   ]
  },
  {
   "cell_type": "code",
   "execution_count": null,
   "id": "7cecb0d3-72e4-4478-82bd-a1e5139fbbd0",
   "metadata": {},
   "outputs": [],
   "source": []
  }
 ],
 "metadata": {
  "kernelspec": {
   "display_name": "Python 3 (ipykernel)",
   "language": "python",
   "name": "python3"
  },
  "language_info": {
   "codemirror_mode": {
    "name": "ipython",
    "version": 3
   },
   "file_extension": ".py",
   "mimetype": "text/x-python",
   "name": "python",
   "nbconvert_exporter": "python",
   "pygments_lexer": "ipython3",
   "version": "3.10.12"
  }
 },
 "nbformat": 4,
 "nbformat_minor": 5
}
