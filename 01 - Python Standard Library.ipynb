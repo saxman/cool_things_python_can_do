{
 "cells": [
  {
   "cell_type": "markdown",
   "id": "2ca46e83-c630-45ab-abcf-9fc92e6e5943",
   "metadata": {},
   "source": [
    "# Python Standard Library\n",
    "\n",
    "This notebook is a collection of Python syntax and operations that make it an incredibly useful programming language. These aren't necessarily unique to Python; however, for people that are interested in growing their knowledge of Python, they can be useful.\n",
    "\n",
    "Ref: https://docs.python.org/3/library/index.html"
   ]
  },
  {
   "cell_type": "markdown",
   "id": "959e8aff-d365-4bf6-991d-5f53e83e756b",
   "metadata": {},
   "source": [
    "## 1. Conditionals\n",
    "\n",
    "Conditional expressions (if-else statements) can be expressed in a compact manner is Python."
   ]
  },
  {
   "cell_type": "markdown",
   "id": "32c947d5-4e34-40c8-8cb6-145804a727bf",
   "metadata": {},
   "source": [
    "### 1.1 Single line if/if-else"
   ]
  },
  {
   "cell_type": "code",
   "execution_count": 1,
   "id": "de5bab1f-74de-45e9-9b82-7a4fad33b767",
   "metadata": {},
   "outputs": [
    {
     "name": "stdout",
     "output_type": "stream",
     "text": [
      "yup\n"
     ]
    }
   ],
   "source": [
    "a = 10\n",
    "if a == 10: print('yup')"
   ]
  },
  {
   "cell_type": "code",
   "execution_count": 2,
   "id": "64bde25c-aae4-4039-be2c-1393596a3be5",
   "metadata": {},
   "outputs": [
    {
     "name": "stdout",
     "output_type": "stream",
     "text": [
      "maybe\n"
     ]
    }
   ],
   "source": [
    "# if-else\n",
    "a = 10\n",
    "print('nope') if a == 11 else print('maybe')"
   ]
  },
  {
   "cell_type": "code",
   "execution_count": 3,
   "id": "62ba2f2a-c55f-4375-9157-ab70abe580e9",
   "metadata": {},
   "outputs": [
    {
     "name": "stdout",
     "output_type": "stream",
     "text": [
      "yup\n"
     ]
    }
   ],
   "source": [
    "# nested conditionals\n",
    "a = 10\n",
    "print('hot') if a == 11 else print('cold') if a == 12 else print('yup')"
   ]
  },
  {
   "cell_type": "code",
   "execution_count": 4,
   "id": "83a7d908-3817-448b-a22e-a790f0d0d50a",
   "metadata": {},
   "outputs": [
    {
     "data": {
      "text/plain": [
       "30"
      ]
     },
     "execution_count": 4,
     "metadata": {},
     "output_type": "execute_result"
    }
   ],
   "source": [
    "# conditional results as arguments. NOTE: the else is required, otherwise the argument is undefined\n",
    "x = 'c'\n",
    "max(10 if x == 'a' else 0, 20 if x == 'b' else 0, 30 if x == 'c' else 0)"
   ]
  },
  {
   "cell_type": "markdown",
   "id": "4d7a4096-6c0f-4506-a419-3d14da9cd626",
   "metadata": {},
   "source": [
    "### 1.2 Boundary checking\n",
    "\n",
    "Variables can be evaluated relative to two other values without using AND, which is required in other programming languages."
   ]
  },
  {
   "cell_type": "code",
   "execution_count": 5,
   "id": "874e95c2-62f7-4696-bfa2-5176137a68cb",
   "metadata": {},
   "outputs": [
    {
     "name": "stdout",
     "output_type": "stream",
     "text": [
      "this works\n"
     ]
    }
   ],
   "source": [
    "# traditional way\n",
    "a = 10\n",
    "if a >= 0 and a <= 20:\n",
    "    print('this works')"
   ]
  },
  {
   "cell_type": "code",
   "execution_count": 6,
   "id": "f21e9f5e-dbc2-4095-ba4a-499e39889185",
   "metadata": {},
   "outputs": [
    {
     "name": "stdout",
     "output_type": "stream",
     "text": [
      "not in java!\n"
     ]
    }
   ],
   "source": [
    "# compact\n",
    "a = 10\n",
    "print('not in java!') if 0 <= a <= 20 else print('nope')"
   ]
  },
  {
   "cell_type": "markdown",
   "id": "79279bd9-e6e1-4c72-9fa6-8a831dbe24e1",
   "metadata": {},
   "source": [
    "### 1.3 Return with conditional\n",
    "\n",
    "Functions can include a conditional in their return.\n",
    "\n",
    "```python\n",
    "return a if conditional else b\n",
    "```\n",
    "\n",
    "This helps to avoid having multiple returns in single function."
   ]
  },
  {
   "cell_type": "code",
   "execution_count": 7,
   "id": "2523f5de-fc86-451c-af31-cac76c087735",
   "metadata": {},
   "outputs": [
    {
     "name": "stdout",
     "output_type": "stream",
     "text": [
      "False\n",
      "True\n"
     ]
    }
   ],
   "source": [
    "def bad_is_even(a):\n",
    "    if a % 2 == 0:\n",
    "        return True\n",
    "        \n",
    "    return False\n",
    "\n",
    "print(bad_is_even(1))\n",
    "print(bad_is_even(2))"
   ]
  },
  {
   "cell_type": "code",
   "execution_count": 8,
   "id": "7a58886c-4e40-4d4e-aa3f-e33589fd647d",
   "metadata": {},
   "outputs": [
    {
     "name": "stdout",
     "output_type": "stream",
     "text": [
      "False\n",
      "True\n"
     ]
    }
   ],
   "source": [
    "def good_is_even(a):\n",
    "    return True if a % 2 == 0 else False\n",
    "\n",
    "print(good_is_even(1))\n",
    "print(good_is_even(2))"
   ]
  },
  {
   "cell_type": "markdown",
   "id": "12e548dc-df97-4a05-aee4-12f62b1636eb",
   "metadata": {},
   "source": [
    "## 2. Strings"
   ]
  },
  {
   "cell_type": "markdown",
   "id": "b8be51cc-4b44-4350-962f-f047480f3dd2",
   "metadata": {},
   "source": [
    "### 2.1 String manipulation"
   ]
  },
  {
   "cell_type": "code",
   "execution_count": 9,
   "id": "d0818ab7-3c46-4c56-a562-1d1312107ccd",
   "metadata": {},
   "outputs": [
    {
     "data": {
      "text/plain": [
       "'pneumonoultramicroscopicsilicovolcanoconiosis'"
      ]
     },
     "execution_count": 9,
     "metadata": {},
     "output_type": "execute_result"
    }
   ],
   "source": [
    "# concatenating strings in a list\n",
    "some_string = ['pneumono', 'ultra', 'microscopic', 'silico', 'volcano',  'coniosis']\n",
    "''.join(some_string)"
   ]
  },
  {
   "cell_type": "code",
   "execution_count": 10,
   "id": "5fc8a08b-4092-46f8-b41d-609f1d776911",
   "metadata": {},
   "outputs": [
    {
     "data": {
      "text/plain": [
       "['now', 'is', 'the', 'time', 'for', 'all', 'good', 'citizens']"
      ]
     },
     "execution_count": 10,
     "metadata": {},
     "output_type": "execute_result"
    }
   ],
   "source": [
    "# splitting on character\n",
    "some_string = \"now is the time for all good citizens\"\n",
    "some_string.split(' ')"
   ]
  },
  {
   "cell_type": "markdown",
   "id": "38bb24fb-7b87-4319-925e-b4b0f43a7c74",
   "metadata": {},
   "source": [
    "### 2.2 Character manipulation"
   ]
  },
  {
   "cell_type": "code",
   "execution_count": 11,
   "id": "8866a4fb-8683-4590-ab48-aa23f8a6aab1",
   "metadata": {},
   "outputs": [
    {
     "data": {
      "text/plain": [
       "'b'"
      ]
     },
     "execution_count": 11,
     "metadata": {},
     "output_type": "execute_result"
    }
   ],
   "source": [
    "# modify chars as integers\n",
    "chr(ord('a') + 1)"
   ]
  },
  {
   "cell_type": "code",
   "execution_count": 12,
   "id": "8f62b4db-74ba-46ed-b1cd-33205fb19e11",
   "metadata": {},
   "outputs": [
    {
     "name": "stdout",
     "output_type": "stream",
     "text": [
      "0b1100001\n",
      "a\n"
     ]
    }
   ],
   "source": [
    "# char to binary to char\n",
    "x = bin(ord('a'))\n",
    "print(x)\n",
    "\n",
    "y = chr(int(x, 2))\n",
    "print(y)"
   ]
  },
  {
   "cell_type": "markdown",
   "id": "506b721f-3237-4df7-8b11-d334cf5ee53d",
   "metadata": {},
   "source": [
    "### 2.3 String constants\n",
    "\n",
    "Python includes a set of string constants that can help with processing."
   ]
  },
  {
   "cell_type": "code",
   "execution_count": 13,
   "id": "410806f8-48c0-481a-84d1-13a44a6cf43e",
   "metadata": {},
   "outputs": [
    {
     "data": {
      "text/plain": [
       "'abcdefghijklmnopqrstuvwxyzABCDEFGHIJKLMNOPQRSTUVWXYZ'"
      ]
     },
     "execution_count": 13,
     "metadata": {},
     "output_type": "execute_result"
    }
   ],
   "source": [
    "import string\n",
    "\n",
    "string.ascii_letters"
   ]
  },
  {
   "cell_type": "code",
   "execution_count": 14,
   "id": "17223aa3-8d38-4ea5-be3a-c8f7483c7240",
   "metadata": {},
   "outputs": [
    {
     "name": "stdout",
     "output_type": "stream",
     "text": [
      "abcdefghijklmnopqrstuvwxyz\n",
      "97 122\n",
      "abcdefghijklmnopqrstuvwxyz\n"
     ]
    }
   ],
   "source": [
    "print(string.ascii_lowercase)\n",
    "\n",
    "print(ord('a'), ord('z'))\n",
    "print(''.join(chr(x) for x in range(ord('a'), ord('z') + 1)))"
   ]
  },
  {
   "cell_type": "code",
   "execution_count": 15,
   "id": "9233749b-e088-4b0a-ba70-06d0fbde5fab",
   "metadata": {},
   "outputs": [
    {
     "name": "stdout",
     "output_type": "stream",
     "text": [
      "ABCDEFGHIJKLMNOPQRSTUVWXYZ\n",
      "65 90\n",
      "ABCDEFGHIJKLMNOPQRSTUVWXYZ\n"
     ]
    }
   ],
   "source": [
    "print(string.ascii_uppercase)\n",
    "\n",
    "print(ord('A'), ord('Z'))\n",
    "print(''.join(chr(x) for x in range(ord('A'), ord('Z') + 1)))"
   ]
  },
  {
   "cell_type": "code",
   "execution_count": 16,
   "id": "cc0f42e1-c728-4ac8-be62-830f510e5df9",
   "metadata": {},
   "outputs": [
    {
     "name": "stdout",
     "output_type": "stream",
     "text": [
      "0123456789\n",
      "48 57\n",
      "0123456789\n"
     ]
    }
   ],
   "source": [
    "print(string.digits)\n",
    "\n",
    "print(ord('0'), ord('9'))\n",
    "print(''.join(chr(x) for x in range(ord('0'), ord('9') + 1)))"
   ]
  },
  {
   "cell_type": "code",
   "execution_count": 17,
   "id": "10927e7f-bdae-4804-8209-db0ef19587c9",
   "metadata": {},
   "outputs": [
    {
     "data": {
      "text/plain": [
       "'0123456789abcdefABCDEF'"
      ]
     },
     "execution_count": 17,
     "metadata": {},
     "output_type": "execute_result"
    }
   ],
   "source": [
    "string.hexdigits"
   ]
  },
  {
   "cell_type": "code",
   "execution_count": 18,
   "id": "c407c11b-71b1-4489-ac44-137301c6edc3",
   "metadata": {},
   "outputs": [
    {
     "data": {
      "text/plain": [
       "'01234567'"
      ]
     },
     "execution_count": 18,
     "metadata": {},
     "output_type": "execute_result"
    }
   ],
   "source": [
    "string.octdigits"
   ]
  },
  {
   "cell_type": "code",
   "execution_count": 19,
   "id": "62880091-060f-4539-a661-0d79abf740a8",
   "metadata": {},
   "outputs": [
    {
     "data": {
      "text/plain": [
       "'!\"#$%&\\'()*+,-./:;<=>?@[\\\\]^_`{|}~'"
      ]
     },
     "execution_count": 19,
     "metadata": {},
     "output_type": "execute_result"
    }
   ],
   "source": [
    "string.punctuation"
   ]
  },
  {
   "cell_type": "code",
   "execution_count": 20,
   "id": "2b1aa2e5-30cf-454c-a0d3-6f0771a90c1d",
   "metadata": {},
   "outputs": [
    {
     "data": {
      "text/plain": [
       "'0123456789abcdefghijklmnopqrstuvwxyzABCDEFGHIJKLMNOPQRSTUVWXYZ!\"#$%&\\'()*+,-./:;<=>?@[\\\\]^_`{|}~ \\t\\n\\r\\x0b\\x0c'"
      ]
     },
     "execution_count": 20,
     "metadata": {},
     "output_type": "execute_result"
    }
   ],
   "source": [
    "string.printable"
   ]
  },
  {
   "cell_type": "code",
   "execution_count": 21,
   "id": "c6697848-246c-447d-a88f-f58b113d6266",
   "metadata": {
    "scrolled": true
   },
   "outputs": [
    {
     "data": {
      "text/plain": [
       "' \\t\\n\\r\\x0b\\x0c'"
      ]
     },
     "execution_count": 21,
     "metadata": {},
     "output_type": "execute_result"
    }
   ],
   "source": [
    "string.whitespace"
   ]
  },
  {
   "cell_type": "markdown",
   "id": "e844bafc-e2ea-4dca-8b12-dba5e0d1a8b7",
   "metadata": {},
   "source": [
    "### 2.3 String functions\n",
    "\n",
    "TODO"
   ]
  },
  {
   "cell_type": "markdown",
   "id": "eb00c09c-703f-4af8-bb29-3323898b8b4a",
   "metadata": {},
   "source": [
    "### 2.4 f-strings\n",
    "\n",
    "*f-strings* allows for inline formatting for string."
   ]
  },
  {
   "cell_type": "code",
   "execution_count": 22,
   "id": "bf2e50a0-2f64-4e3f-8f1a-ba0478baa7ed",
   "metadata": {},
   "outputs": [
    {
     "data": {
      "text/plain": [
       "'a = 10'"
      ]
     },
     "execution_count": 22,
     "metadata": {},
     "output_type": "execute_result"
    }
   ],
   "source": [
    "# basic\n",
    "a = 10\n",
    "f'a = {a}'"
   ]
  },
  {
   "cell_type": "code",
   "execution_count": 23,
   "id": "13c40f4f-9796-4155-aa99-a2d8fedda7bb",
   "metadata": {},
   "outputs": [
    {
     "data": {
      "text/plain": [
       "'a = 11'"
      ]
     },
     "execution_count": 23,
     "metadata": {},
     "output_type": "execute_result"
    }
   ],
   "source": [
    "# expressions\n",
    "a = 10\n",
    "f'a = {a + 1}'"
   ]
  },
  {
   "cell_type": "code",
   "execution_count": 24,
   "id": "64d17681-7c84-45db-987a-2ea485f3cca5",
   "metadata": {},
   "outputs": [
    {
     "data": {
      "text/plain": [
       "'len a = 3'"
      ]
     },
     "execution_count": 24,
     "metadata": {},
     "output_type": "execute_result"
    }
   ],
   "source": [
    "# functions\n",
    "a = [1, 2, 3]\n",
    "f'len a = {len(a)}'"
   ]
  },
  {
   "cell_type": "code",
   "execution_count": 25,
   "id": "f9a347be-f6f0-40f1-9d59-ed3a91f7c637",
   "metadata": {},
   "outputs": [
    {
     "data": {
      "text/plain": [
       "\"his name is 'Fred'\""
      ]
     },
     "execution_count": 25,
     "metadata": {},
     "output_type": "execute_result"
    }
   ],
   "source": [
    "# representation\n",
    "a = 'Fred'\n",
    "f'his name is {a!r}'"
   ]
  },
  {
   "cell_type": "markdown",
   "id": "0e110599-ddce-4bad-b19c-89c85b194396",
   "metadata": {},
   "source": [
    "### 2.5 Regular expressions\n",
    "\n",
    "TODO"
   ]
  },
  {
   "cell_type": "code",
   "execution_count": 26,
   "id": "882a2596-6581-45f4-bbd1-904db0ce1b63",
   "metadata": {},
   "outputs": [
    {
     "data": {
      "text/plain": [
       "['hello', 'do', 'you', 'like', 'cats', 'dogs', 'birds', 'or', 'frogs']"
      ]
     },
     "execution_count": 26,
     "metadata": {},
     "output_type": "execute_result"
    }
   ],
   "source": [
    "# find words in string ignoring punctuation\n",
    "import re\n",
    "\n",
    "some_string = 'hello! do you like cats, dogs, birds, or frogs?'\n",
    "re.findall(r'\\w+', some_string)"
   ]
  },
  {
   "cell_type": "markdown",
   "id": "c151defc-f5ba-4ab5-8fca-a512b160f439",
   "metadata": {},
   "source": [
    "## 3. Lists"
   ]
  },
  {
   "cell_type": "markdown",
   "id": "89cc1ff1-1c85-4937-b612-b2af1ecec47c",
   "metadata": {},
   "source": [
    "### 3.1 Creating lists"
   ]
  },
  {
   "cell_type": "code",
   "execution_count": 27,
   "id": "c4daae8e-3d1c-482e-8a98-3bc290a75174",
   "metadata": {},
   "outputs": [
    {
     "data": {
      "text/plain": [
       "[0, 0, 0, 0, 0]"
      ]
     },
     "execution_count": 27,
     "metadata": {},
     "output_type": "execute_result"
    }
   ],
   "source": [
    "# initializing with size and value\n",
    "[0]*5"
   ]
  },
  {
   "cell_type": "code",
   "execution_count": 28,
   "id": "c0a5861c-887d-49e4-8f39-3322e2d155cd",
   "metadata": {},
   "outputs": [
    {
     "data": {
      "text/plain": [
       "[1, 'c', True, 3.14]"
      ]
     },
     "execution_count": 28,
     "metadata": {},
     "output_type": "execute_result"
    }
   ],
   "source": [
    "# with mixed types\n",
    "[1, 'c', True, 3.14]"
   ]
  },
  {
   "cell_type": "code",
   "execution_count": 29,
   "id": "8ca8b964-194b-4395-86e1-d6aff1a967e1",
   "metadata": {},
   "outputs": [
    {
     "data": {
      "text/plain": [
       "[0, 0, 0, 0, 0]"
      ]
     },
     "execution_count": 29,
     "metadata": {},
     "output_type": "execute_result"
    }
   ],
   "source": [
    "# using list comprehension\n",
    "[0 for x in range(5)]"
   ]
  },
  {
   "cell_type": "code",
   "execution_count": 30,
   "id": "e65e8bdd-9f14-4cc9-b247-d063e491654c",
   "metadata": {},
   "outputs": [
    {
     "name": "stdout",
     "output_type": "stream",
     "text": [
      "[0, 1, 2]\n",
      "[0, 1, 2]\n",
      "[0, 1, 2]\n"
     ]
    }
   ],
   "source": [
    "# duplicating lists\n",
    "a = [0, 1, 2]\n",
    "\n",
    "b = a.copy()\n",
    "print(b)\n",
    "\n",
    "b = a[:]\n",
    "print(b)\n",
    "\n",
    "# too verbose for a simple copy, but could be used for filtering items in the copy\n",
    "b = [x for x in a]\n",
    "print(b)"
   ]
  },
  {
   "cell_type": "code",
   "execution_count": 31,
   "id": "3c07180c-0e3c-40f3-b0d0-3a69473f7b33",
   "metadata": {},
   "outputs": [
    {
     "name": "stdout",
     "output_type": "stream",
     "text": [
      "[0, 1, 2, 3, 4]\n",
      "[True, False, True, False, True]\n",
      "[0, 0, 0, 1, 1, 1, 2, 2, 2]\n"
     ]
    }
   ],
   "source": [
    "# following patterns\n",
    "print([x for x in range(5)])\n",
    "\n",
    "print([x % 2 == 0 for x in range(5)])\n",
    "\n",
    "print([x // 3 for x in range(9)])"
   ]
  },
  {
   "cell_type": "code",
   "execution_count": 32,
   "id": "3381a176-a2b5-4e75-a197-85ea36fc5d1b",
   "metadata": {},
   "outputs": [
    {
     "data": {
      "text/plain": [
       "[0, 1, 4, 9, 16, 25, 36, 49, 64, 81]"
      ]
     },
     "execution_count": 32,
     "metadata": {},
     "output_type": "execute_result"
    }
   ],
   "source": [
    "# copy by executing a function on each item\n",
    "def square(x):\n",
    "    return x ** 2\n",
    "\n",
    "[square(x) for x in range(10)]"
   ]
  },
  {
   "cell_type": "code",
   "execution_count": 33,
   "id": "690e8831-36fc-42a0-9a65-90b95435fda3",
   "metadata": {},
   "outputs": [
    {
     "data": {
      "text/plain": [
       "[1, 4, 9]"
      ]
     },
     "execution_count": 33,
     "metadata": {},
     "output_type": "execute_result"
    }
   ],
   "source": [
    "# copy by executing a function on each item (using map function)\n",
    "def square(x):\n",
    "    return x ** 2\n",
    "\n",
    "a = [1, 2, 3]\n",
    "list(map(square, a))"
   ]
  },
  {
   "cell_type": "code",
   "execution_count": 34,
   "id": "74ba151e-f0c1-4b8d-af2b-8e14c5b47af5",
   "metadata": {},
   "outputs": [
    {
     "name": "stdout",
     "output_type": "stream",
     "text": [
      "[2, 4]\n",
      "[2, 4]\n"
     ]
    }
   ],
   "source": [
    "# copy with filtering\n",
    "def is_even(x):\n",
    "    return x % 2 == 0\n",
    "\n",
    "a = [1, 2, 3, 4]\n",
    "print(list(filter(is_even, a)))\n",
    "\n",
    "# same as...\n",
    "print([x for x in a if is_even(x)])"
   ]
  },
  {
   "cell_type": "code",
   "execution_count": 35,
   "id": "f928ec97-0078-4133-b237-665e4a7eba1a",
   "metadata": {},
   "outputs": [
    {
     "name": "stdout",
     "output_type": "stream",
     "text": [
      "[2, 4]\n"
     ]
    }
   ],
   "source": [
    "# using a lambda\n",
    "print(list(filter(lambda x: x % 2 == 0, a)))"
   ]
  },
  {
   "cell_type": "markdown",
   "id": "6f4cc2b3-d5a7-45a7-98e1-0197a985f1d8",
   "metadata": {},
   "source": [
    "### 3.2 Accessing items"
   ]
  },
  {
   "cell_type": "code",
   "execution_count": 36,
   "id": "b16d8e87-4591-4f8b-8404-29d68e84e5a7",
   "metadata": {},
   "outputs": [
    {
     "data": {
      "text/plain": [
       "3"
      ]
     },
     "execution_count": 36,
     "metadata": {},
     "output_type": "execute_result"
    }
   ],
   "source": [
    "# in reverse\n",
    "a = [1, 2, 3]\n",
    "a[-1]"
   ]
  },
  {
   "cell_type": "code",
   "execution_count": 37,
   "id": "126b3639-e810-4faa-9f66-73d854a29b50",
   "metadata": {},
   "outputs": [
    {
     "data": {
      "text/plain": [
       "[2, 3]"
      ]
     },
     "execution_count": 37,
     "metadata": {},
     "output_type": "execute_result"
    }
   ],
   "source": [
    "# a range\n",
    "a = [1, 2, 3, 4]\n",
    "a[1:3]"
   ]
  },
  {
   "cell_type": "code",
   "execution_count": 38,
   "id": "b8fb45f4-f14a-4bc4-aa18-747af141234c",
   "metadata": {},
   "outputs": [
    {
     "data": {
      "text/plain": [
       "1"
      ]
     },
     "execution_count": 38,
     "metadata": {},
     "output_type": "execute_result"
    }
   ],
   "source": [
    "# index of first instance of item\n",
    "a = ['a', 'b', 'c', 'b', 'a']\n",
    "a.index('b')"
   ]
  },
  {
   "cell_type": "code",
   "execution_count": 39,
   "id": "54dce9ad-affc-4321-92a8-385bbbed2734",
   "metadata": {},
   "outputs": [
    {
     "data": {
      "text/plain": [
       "3"
      ]
     },
     "execution_count": 39,
     "metadata": {},
     "output_type": "execute_result"
    }
   ],
   "source": [
    "# index of next instance of item\n",
    "a = ['a', 'b', 'c', 'b', 'a']\n",
    "a.index('b', a.index('b') + 1)"
   ]
  },
  {
   "cell_type": "code",
   "execution_count": 40,
   "id": "8ea63ba0-e4b3-404c-93f2-b2a017225888",
   "metadata": {},
   "outputs": [
    {
     "name": "stdout",
     "output_type": "stream",
     "text": [
      "0 a\n",
      "1 b\n",
      "2 c\n"
     ]
    }
   ],
   "source": [
    "# iterating with index and value\n",
    "a = ['a', 'b', 'c']\n",
    "\n",
    "for i, v in enumerate(a):\n",
    "    print(i, v)"
   ]
  },
  {
   "cell_type": "markdown",
   "id": "8a33900d-c5ef-43f0-b3cd-533e56bfd412",
   "metadata": {},
   "source": [
    "### 3.3 Inspecting lists"
   ]
  },
  {
   "cell_type": "code",
   "execution_count": 41,
   "id": "3d0e7a4c-b061-47b3-9045-0a5024254f97",
   "metadata": {},
   "outputs": [
    {
     "data": {
      "text/plain": [
       "2"
      ]
     },
     "execution_count": 41,
     "metadata": {},
     "output_type": "execute_result"
    }
   ],
   "source": [
    "# count of items\n",
    "a = [1, 2, 3, 2, 1]\n",
    "a.count(2)"
   ]
  },
  {
   "cell_type": "code",
   "execution_count": 42,
   "id": "f0cab1ef-2a1f-4dc5-b6dc-96f990b6955c",
   "metadata": {},
   "outputs": [
    {
     "data": {
      "text/plain": [
       "[1, 2, 3]"
      ]
     },
     "execution_count": 42,
     "metadata": {},
     "output_type": "execute_result"
    }
   ],
   "source": [
    "# unique items\n",
    "a = [1, 2, 3, 2, 1]\n",
    "list(set(a))"
   ]
  },
  {
   "cell_type": "code",
   "execution_count": 43,
   "id": "8f88bad4-a898-4cb6-b19a-4eece3ce0537",
   "metadata": {},
   "outputs": [
    {
     "name": "stdout",
     "output_type": "stream",
     "text": [
      "True\n",
      "False\n"
     ]
    }
   ],
   "source": [
    "# check if all items in a list are True\n",
    "a = [True, True]\n",
    "print(all(a))\n",
    "\n",
    "a = [True, False]\n",
    "print(all(a))"
   ]
  },
  {
   "cell_type": "code",
   "execution_count": 44,
   "id": "1d364fba-fb17-46e7-9cc1-637a13f8c88d",
   "metadata": {},
   "outputs": [
    {
     "data": {
      "text/plain": [
       "3"
      ]
     },
     "execution_count": 44,
     "metadata": {},
     "output_type": "execute_result"
    }
   ],
   "source": [
    "# maximal value\n",
    "a = [1, 2, 3]\n",
    "max(a)"
   ]
  },
  {
   "cell_type": "code",
   "execution_count": 45,
   "id": "594b6039-a265-4ef9-8c20-3134d4aaf157",
   "metadata": {},
   "outputs": [
    {
     "data": {
      "text/plain": [
       "1"
      ]
     },
     "execution_count": 45,
     "metadata": {},
     "output_type": "execute_result"
    }
   ],
   "source": [
    "# minimal value\n",
    "a = [1, 2, 3]\n",
    "min(a)"
   ]
  },
  {
   "cell_type": "code",
   "execution_count": 46,
   "id": "70fb2786-10a6-47a6-b3eb-b1ddee369f69",
   "metadata": {},
   "outputs": [
    {
     "data": {
      "text/plain": [
       "6"
      ]
     },
     "execution_count": 46,
     "metadata": {},
     "output_type": "execute_result"
    }
   ],
   "source": [
    "# sum of values\n",
    "a = [1, 2, 3]\n",
    "sum(a)"
   ]
  },
  {
   "cell_type": "markdown",
   "id": "971bf91b-5775-4661-952f-2ef0353d650d",
   "metadata": {},
   "source": [
    "### 3.4 Modifying lists"
   ]
  },
  {
   "cell_type": "markdown",
   "id": "ff9fdfd8-841f-4456-82ca-c5aec422dc99",
   "metadata": {},
   "source": [
    "#### 3.4.1 Adding items"
   ]
  },
  {
   "cell_type": "code",
   "execution_count": 47,
   "id": "dfd8c9a7-9800-4fe0-8a8c-eda53b5e1736",
   "metadata": {},
   "outputs": [
    {
     "name": "stdout",
     "output_type": "stream",
     "text": [
      "['a', 'b', 'c']\n",
      "['a', 'b', 'c']\n"
     ]
    }
   ],
   "source": [
    "# add an item to the end\n",
    "a = ['a', 'b']\n",
    "a.append('c')\n",
    "print(a)\n",
    "\n",
    "# add an item at index\n",
    "a = ['a', 'c']\n",
    "a.insert(1, 'b')\n",
    "print(a)"
   ]
  },
  {
   "cell_type": "code",
   "execution_count": 48,
   "id": "3308297e-5835-425e-8268-72421458d536",
   "metadata": {},
   "outputs": [
    {
     "name": "stdout",
     "output_type": "stream",
     "text": [
      "[1, 2, 3, 4]\n",
      "[1, 2, 3, 4]\n"
     ]
    }
   ],
   "source": [
    "# append a list to a list\n",
    "a = [1, 2]\n",
    "b = [3, 4]\n",
    "print(a + b)\n",
    "\n",
    "# also append a list to a list\n",
    "a = [1, 2]\n",
    "b = [3, 4]\n",
    "a.extend(b)\n",
    "print(a)"
   ]
  },
  {
   "cell_type": "markdown",
   "id": "1ca98d41-9f6d-423b-b439-bb7d866f3c90",
   "metadata": {},
   "source": [
    "#### 3.4.2 Removing items"
   ]
  },
  {
   "cell_type": "code",
   "execution_count": 49,
   "id": "c505be87-29c6-486f-8404-690552897a26",
   "metadata": {},
   "outputs": [
    {
     "name": "stdout",
     "output_type": "stream",
     "text": [
      "['a', 'c']\n"
     ]
    }
   ],
   "source": [
    "# removing item at index\n",
    "a = ['a', 'b', 'c']\n",
    "a.pop(1)\n",
    "print(a)"
   ]
  },
  {
   "cell_type": "code",
   "execution_count": 50,
   "id": "29791d3d-07e5-4936-8e84-3954ecbe9f74",
   "metadata": {},
   "outputs": [
    {
     "name": "stdout",
     "output_type": "stream",
     "text": [
      "['b', 'c', 'b', 'a']\n"
     ]
    }
   ],
   "source": [
    "# remove first instance of item\n",
    "a = ['a', 'b', 'c', 'b', 'a']\n",
    "a.remove('a')\n",
    "print(a)"
   ]
  },
  {
   "cell_type": "code",
   "execution_count": 51,
   "id": "af9311da-cd91-4a7b-b0d8-0f7ac85f00e2",
   "metadata": {},
   "outputs": [
    {
     "name": "stdout",
     "output_type": "stream",
     "text": [
      "['a', 'c']\n"
     ]
    }
   ],
   "source": [
    "# remove item without retrieving it (as with pop)\n",
    "a = ['a', 'b', 'c']\n",
    "del a[1]\n",
    "print(a)"
   ]
  },
  {
   "cell_type": "code",
   "execution_count": 52,
   "id": "f0b11703-a8ab-4164-9202-acc58a1ef2af",
   "metadata": {},
   "outputs": [
    {
     "data": {
      "text/plain": [
       "['a', 'e']"
      ]
     },
     "execution_count": 52,
     "metadata": {},
     "output_type": "execute_result"
    }
   ],
   "source": [
    "# remove a range (slice) of items\n",
    "a = ['a', 'b', 'c', 'd', 'e']\n",
    "a[1:4] = []\n",
    "a"
   ]
  },
  {
   "cell_type": "markdown",
   "id": "4ea1c4d2-5456-4406-bdb7-f754931ea029",
   "metadata": {},
   "source": [
    "#### 3.4.3 Changing order of list items (in-place)"
   ]
  },
  {
   "cell_type": "code",
   "execution_count": 53,
   "id": "48e6b021-3bdf-4712-939c-c8f4e39918a6",
   "metadata": {},
   "outputs": [
    {
     "name": "stdout",
     "output_type": "stream",
     "text": [
      "['a', 'b', 'c']\n"
     ]
    }
   ],
   "source": [
    "# sort\n",
    "a = ['b', 'c', 'a']\n",
    "a.sort()\n",
    "print(a)"
   ]
  },
  {
   "cell_type": "code",
   "execution_count": 54,
   "id": "256632a5-98ec-4831-888e-97cc9b97984c",
   "metadata": {},
   "outputs": [
    {
     "name": "stdout",
     "output_type": "stream",
     "text": [
      "['c', 'b', 'a']\n"
     ]
    }
   ],
   "source": [
    "# sort reverse\n",
    "a = ['a', 'b', 'c']\n",
    "a.sort(reverse=True)\n",
    "print(a)"
   ]
  },
  {
   "cell_type": "code",
   "execution_count": 55,
   "id": "aa770ee3-dfcd-47f8-b3ef-b6ca6b1e0ab3",
   "metadata": {},
   "outputs": [
    {
     "name": "stdout",
     "output_type": "stream",
     "text": [
      "['c', 'b', 'a']\n"
     ]
    }
   ],
   "source": [
    "# reverse (without sorting)\n",
    "a = ['a', 'b', 'c']\n",
    "a.reverse()\n",
    "print(a)"
   ]
  },
  {
   "cell_type": "markdown",
   "id": "a5f00b2f-a22a-4878-91a6-c98b4aff41a2",
   "metadata": {},
   "source": [
    "#### 3.4.4 Clearing list items"
   ]
  },
  {
   "cell_type": "code",
   "execution_count": 56,
   "id": "2d595088-7779-447e-9e37-60bb71f83daa",
   "metadata": {},
   "outputs": [
    {
     "name": "stdout",
     "output_type": "stream",
     "text": [
      "[]\n"
     ]
    }
   ],
   "source": [
    "# clear (use this, it's most obvious)\n",
    "a = ['a', 'b', 'c']\n",
    "a.clear()\n",
    "print(a)"
   ]
  },
  {
   "cell_type": "code",
   "execution_count": 57,
   "id": "384d4202-fc18-4214-b656-d843dd64fa8d",
   "metadata": {},
   "outputs": [
    {
     "name": "stdout",
     "output_type": "stream",
     "text": [
      "[]\n"
     ]
    }
   ],
   "source": [
    "# clear using del\n",
    "a = ['a', 'b', 'c']\n",
    "del a[:]\n",
    "print(a)"
   ]
  },
  {
   "cell_type": "markdown",
   "id": "f58424c6-8122-43ef-9aba-7a3ad319d58e",
   "metadata": {},
   "source": [
    "### 3.5 Multi-dimension arrays\n",
    "\n",
    "There are a few ways to initialize multi-dimensional arrays in Python. One way has a potemtial gotcha."
   ]
  },
  {
   "cell_type": "code",
   "execution_count": 58,
   "id": "a4faceaa-5b88-4ced-9847-d7ea20e132c6",
   "metadata": {},
   "outputs": [
    {
     "name": "stdout",
     "output_type": "stream",
     "text": [
      "[[1, 0, 0, 0, 0], [1, 0, 0, 0, 0], [1, 0, 0, 0, 0], [1, 0, 0, 0, 0]]\n"
     ]
    }
   ],
   "source": [
    "cols = 5\n",
    "rows = 4\n",
    "\n",
    "# create a NxM deminsional array, but with each row duplicated!\n",
    "a = [[0]*cols]*rows\n",
    "a[0][0] = 1\n",
    "print(a)"
   ]
  },
  {
   "cell_type": "code",
   "execution_count": 59,
   "id": "206ff81d-76c3-4d2c-b81a-528c0d35ff9a",
   "metadata": {},
   "outputs": [
    {
     "name": "stdout",
     "output_type": "stream",
     "text": [
      "[[1, 0, 0, 0, 0], [0, 0, 0, 0, 0], [0, 0, 0, 0, 0], [0, 0, 0, 0, 0]]\n"
     ]
    }
   ],
   "source": [
    "# each row is unique\n",
    "a = [[0]*cols for _ in [0]*rows]\n",
    "a[0][0] = 1\n",
    "print(a)"
   ]
  },
  {
   "cell_type": "code",
   "execution_count": 60,
   "id": "0d48258e-9dc7-4dcb-8adf-8c265946a9a0",
   "metadata": {},
   "outputs": [
    {
     "name": "stdout",
     "output_type": "stream",
     "text": [
      "[[1, 0, 0, 0, 0], [0, 0, 0, 0, 0], [0, 0, 0, 0, 0], [0, 0, 0, 0, 0]]\n"
     ]
    }
   ],
   "source": [
    "# each row is unique, with cleaner syntaxm if all elements are the same\n",
    "a = [[0]*cols for _ in range(rows)]\n",
    "a[0][0] = 1\n",
    "print(a)"
   ]
  },
  {
   "cell_type": "code",
   "execution_count": 61,
   "id": "ba938c64-b31b-4ce5-9319-478863bbf89e",
   "metadata": {},
   "outputs": [
    {
     "data": {
      "text/plain": [
       "[[0, 1, 2, 3, 4],\n",
       " [0, 1, 2, 3, 4],\n",
       " [0, 1, 2, 3, 4],\n",
       " [0, 1, 2, 3, 4],\n",
       " [0, 1, 2, 3, 4]]"
      ]
     },
     "execution_count": 61,
     "metadata": {},
     "output_type": "execute_result"
    }
   ],
   "source": [
    "# using nested list comprehension\n",
    "[[j for j in range(5)] for i in range(5)]"
   ]
  },
  {
   "cell_type": "code",
   "execution_count": 62,
   "id": "0e31c5c1-2945-4cdd-902c-39f569944833",
   "metadata": {},
   "outputs": [
    {
     "data": {
      "text/plain": [
       "[1, 2, 3, 4, 5, 6, 7, 8, 9]"
      ]
     },
     "execution_count": 62,
     "metadata": {},
     "output_type": "execute_result"
    }
   ],
   "source": [
    "# flatten matrix\n",
    "a = [[1, 2, 3], [4, 5, 6], [7, 8, 9]]\n",
    "\n",
    "[x for row in a for x in row]"
   ]
  },
  {
   "cell_type": "code",
   "execution_count": 63,
   "id": "746dc7c3-1853-42ca-b450-39c962770b3c",
   "metadata": {},
   "outputs": [
    {
     "data": {
      "text/plain": [
       "[[2, 3, 4], [5, 6, 7], [8, 9, 10]]"
      ]
     },
     "execution_count": 63,
     "metadata": {},
     "output_type": "execute_result"
    }
   ],
   "source": [
    "# transform matrix\n",
    "a = [[1, 2, 3], [4, 5, 6], [7, 8, 9]]\n",
    "\n",
    "[[x + 1 for x in row] for row in a]"
   ]
  },
  {
   "cell_type": "markdown",
   "id": "1ba291aa-c64c-4855-b86e-711089b2e6db",
   "metadata": {},
   "source": [
    "## 4. List slicing\n",
    "\n",
    "Portions of lists (and strings!) can be accessed using the notation:\n",
    "\n",
    "```python\n",
    "a[start:stop:step]\n",
    "```\n",
    "\n",
    "Note that the slice will NOT include the item at the stop index. *stop* is the item after the slice."
   ]
  },
  {
   "cell_type": "code",
   "execution_count": 64,
   "id": "e4575713-7d91-4b74-ac56-895861094ddd",
   "metadata": {},
   "outputs": [
    {
     "data": {
      "text/plain": [
       "[1, 2]"
      ]
     },
     "execution_count": 64,
     "metadata": {},
     "output_type": "execute_result"
    }
   ],
   "source": [
    "# get the fist two items in a list\n",
    "a = [1, 2, 3]\n",
    "a[0:2]"
   ]
  },
  {
   "cell_type": "code",
   "execution_count": 65,
   "id": "cc01183a-4865-4d8c-be32-ce2ebd2419a7",
   "metadata": {},
   "outputs": [
    {
     "data": {
      "text/plain": [
       "[1, 2]"
      ]
     },
     "execution_count": 65,
     "metadata": {},
     "output_type": "execute_result"
    }
   ],
   "source": [
    "# shorthand. start index defaults to 0\n",
    "a = [1, 2, 3]\n",
    "a[:2]"
   ]
  },
  {
   "cell_type": "code",
   "execution_count": 66,
   "id": "c9d61b60-e43c-4ca0-8800-abdd98d9cdc7",
   "metadata": {},
   "outputs": [
    {
     "data": {
      "text/plain": [
       "[2, 3]"
      ]
     },
     "execution_count": 66,
     "metadata": {},
     "output_type": "execute_result"
    }
   ],
   "source": [
    "# exerything but the first (from 1 to end). No need to include len(n) for stop.\n",
    "a = [1, 2, 3]\n",
    "a[1:]"
   ]
  },
  {
   "cell_type": "code",
   "execution_count": 67,
   "id": "42ea14bb-b5c7-423a-a993-e3a304d56190",
   "metadata": {},
   "outputs": [
    {
     "data": {
      "text/plain": [
       "3"
      ]
     },
     "execution_count": 67,
     "metadata": {},
     "output_type": "execute_result"
    }
   ],
   "source": [
    "# last item\n",
    "a = [1, 2, 3]\n",
    "a[-1]"
   ]
  },
  {
   "cell_type": "code",
   "execution_count": 68,
   "id": "b3c090c9-684c-42ab-997f-4a4f3e1f9d38",
   "metadata": {},
   "outputs": [
    {
     "data": {
      "text/plain": [
       "[2, 3]"
      ]
     },
     "execution_count": 68,
     "metadata": {},
     "output_type": "execute_result"
    }
   ],
   "source": [
    "# last 2 items\n",
    "a = [1, 2, 3]\n",
    "a[-2:]"
   ]
  },
  {
   "cell_type": "code",
   "execution_count": 69,
   "id": "73c44d9b-f145-4fde-bb94-bd904230f19f",
   "metadata": {},
   "outputs": [
    {
     "data": {
      "text/plain": [
       "[1, 3]"
      ]
     },
     "execution_count": 69,
     "metadata": {},
     "output_type": "execute_result"
    }
   ],
   "source": [
    "# every other\n",
    "a = [1, 2, 3, 4]\n",
    "a[::2]"
   ]
  },
  {
   "cell_type": "code",
   "execution_count": 70,
   "id": "ff4d8db1-a676-4146-b12f-ac622c4c29e7",
   "metadata": {},
   "outputs": [
    {
     "data": {
      "text/plain": [
       "[3, 2, 1]"
      ]
     },
     "execution_count": 70,
     "metadata": {},
     "output_type": "execute_result"
    }
   ],
   "source": [
    "# reverse order\n",
    "a = [1, 2, 3]\n",
    "a[::-1]"
   ]
  },
  {
   "cell_type": "markdown",
   "id": "3e04e780-450d-4987-8d54-17f4afa44ff2",
   "metadata": {},
   "source": [
    "## 5. List comprehension"
   ]
  },
  {
   "cell_type": "markdown",
   "id": "21bd9bbe-27e6-419d-b7e9-9e9de63f666a",
   "metadata": {},
   "source": [
    "### 5.1 Basic syntax\n",
    "\n",
    "New lists can easily be created from existing lists in a single line.\n",
    "\n",
    "```python\n",
    "[expression for x in some_list]\n",
    "```\n",
    "\n",
    "For each item in some_list, add an item in a new list following an expression."
   ]
  },
  {
   "cell_type": "code",
   "execution_count": 71,
   "id": "86554779-4527-4106-a0e3-566d0ae519d2",
   "metadata": {},
   "outputs": [
    {
     "data": {
      "text/plain": [
       "[2, 3, 4]"
      ]
     },
     "execution_count": 71,
     "metadata": {},
     "output_type": "execute_result"
    }
   ],
   "source": [
    "# without list comprehension\n",
    "some_list = [1, 2, 3]\n",
    "new_list = []\n",
    "\n",
    "for x in some_list:\n",
    "    new_list.append(x + 1)\n",
    "\n",
    "new_list"
   ]
  },
  {
   "cell_type": "code",
   "execution_count": 72,
   "id": "9f348611-dacb-4264-a661-38a24b5ec9d8",
   "metadata": {},
   "outputs": [
    {
     "data": {
      "text/plain": [
       "[2, 3, 4]"
      ]
     },
     "execution_count": 72,
     "metadata": {},
     "output_type": "execute_result"
    }
   ],
   "source": [
    "some_list = [1, 2, 3]\n",
    "[x + 1 for x in some_list]"
   ]
  },
  {
   "cell_type": "code",
   "execution_count": 73,
   "id": "a8a735cb-3708-4c27-84bf-ba52b13d089b",
   "metadata": {},
   "outputs": [
    {
     "data": {
      "text/plain": [
       "[False, True, False, True]"
      ]
     },
     "execution_count": 73,
     "metadata": {},
     "output_type": "execute_result"
    }
   ],
   "source": [
    "# the expression can be more complex\n",
    "some_list = [1, 2, 3, 4]\n",
    "[x % 2 == 0 for x in some_list]"
   ]
  },
  {
   "cell_type": "markdown",
   "id": "eac28236-6d61-4414-900a-d633468fb87c",
   "metadata": {},
   "source": [
    "### 5.2 Filter conditions\n",
    "\n",
    "List comprehension statements can include a conditional at the end for filtering items.\n",
    "\n",
    "```python\n",
    "[expression for x in some_list if condition == True]\n",
    "```"
   ]
  },
  {
   "cell_type": "code",
   "execution_count": 74,
   "id": "2969b595-bc12-4cf9-b0cc-de5825777b2f",
   "metadata": {},
   "outputs": [
    {
     "data": {
      "text/plain": [
       "[0, 1, 2]"
      ]
     },
     "execution_count": 74,
     "metadata": {},
     "output_type": "execute_result"
    }
   ],
   "source": [
    "# remove all negative numbers\n",
    "some_list = [-2, -1, 0, 1, 2]\n",
    "[x for x in some_list if x >= 0]"
   ]
  },
  {
   "cell_type": "markdown",
   "id": "7ae40335-18cd-4901-a71c-02bb7b6c3fa1",
   "metadata": {},
   "source": [
    "### 5.3 Conditional expressions\n",
    "\n",
    "The expression in a list comprehension statement can be a conditional.\n",
    "\n",
    "```python\n",
    "[a if condition == True else b for x in some_list]\n",
    "```"
   ]
  },
  {
   "cell_type": "code",
   "execution_count": 75,
   "id": "eeb2b71c-a0e7-4993-84df-ce88e4dcd2be",
   "metadata": {},
   "outputs": [
    {
     "data": {
      "text/plain": [
       "[0, 0, 0, 1, 2]"
      ]
     },
     "execution_count": 75,
     "metadata": {},
     "output_type": "execute_result"
    }
   ],
   "source": [
    "# make all negative numbers zero\n",
    "some_list = [-2, -1, 0, 1, 2]\n",
    "[x if x > 0 else 0 for x in some_list]"
   ]
  },
  {
   "cell_type": "markdown",
   "id": "12d1ac98-8b1f-4bcf-a125-01191550b933",
   "metadata": {},
   "source": [
    "### 5.4 With strings\n",
    "\n",
    "Strings are *iterable*, so it's easy to process them one character at a time using list comprehension.\n",
    "\n",
    "Ref: https://www.pythonlikeyoumeanit.com/Module2_EssentialsOfPython/Iterables.html"
   ]
  },
  {
   "cell_type": "code",
   "execution_count": 76,
   "id": "5706c3cc-336a-45c5-8ab7-08876f555948",
   "metadata": {},
   "outputs": [
    {
     "data": {
      "text/plain": [
       "['a', 'e', 'i', 'o', 'u']"
      ]
     },
     "execution_count": 76,
     "metadata": {},
     "output_type": "execute_result"
    }
   ],
   "source": [
    "[x for x in 'aeiou']"
   ]
  },
  {
   "cell_type": "code",
   "execution_count": 77,
   "id": "32113649-80fb-44e5-9e4e-c33bdb768255",
   "metadata": {},
   "outputs": [
    {
     "data": {
      "text/plain": [
       "'Nw s th tm fr ll gd ctzns t cm t th d f thr cntry.'"
      ]
     },
     "execution_count": 77,
     "metadata": {},
     "output_type": "execute_result"
    }
   ],
   "source": [
    "# remove all vowels from the input string\n",
    "some_string = 'Now is the time for all good citizens to come to the aid of their country.'\n",
    "''.join('' if x in 'aeiou' else x for x in some_string)"
   ]
  },
  {
   "cell_type": "code",
   "execution_count": 78,
   "id": "2d0f0c86-e153-4641-a31c-3197542c6ae7",
   "metadata": {},
   "outputs": [
    {
     "data": {
      "text/plain": [
       "[1, 2, 3, 4, 5, 6, 7, 8, 9, 0]"
      ]
     },
     "execution_count": 78,
     "metadata": {},
     "output_type": "execute_result"
    }
   ],
   "source": [
    "# create a list of digits in a integer\n",
    "some_int = 1234567890\n",
    "[int(x) for x in str(some_int)]"
   ]
  },
  {
   "cell_type": "markdown",
   "id": "3297aa89-408c-48e7-b359-3f5ce001c0e1",
   "metadata": {},
   "source": [
    "## 6. Math operations\n",
    "\n",
    "The following are a colleciton of common math operations in Python. The *math* library includes a whole lot more.\n",
    "\n",
    "Ref: https://docs.python.org/3/library/math.html"
   ]
  },
  {
   "cell_type": "code",
   "execution_count": 79,
   "id": "2c24cc03-265e-48de-ad77-79cff63e4b91",
   "metadata": {},
   "outputs": [
    {
     "data": {
      "text/plain": [
       "9"
      ]
     },
     "execution_count": 79,
     "metadata": {},
     "output_type": "execute_result"
    }
   ],
   "source": [
    "# exponentiation\n",
    "3 ** 2"
   ]
  },
  {
   "cell_type": "code",
   "execution_count": 80,
   "id": "62d673f5-aaaa-485d-8b23-6f7ba61dd584",
   "metadata": {},
   "outputs": [
    {
     "data": {
      "text/plain": [
       "9"
      ]
     },
     "execution_count": 80,
     "metadata": {},
     "output_type": "execute_result"
    }
   ],
   "source": [
    "# also exponentiation\n",
    "pow(3, 2)"
   ]
  },
  {
   "cell_type": "code",
   "execution_count": 81,
   "id": "0639cfa7-76e5-4613-a76f-ceefc358b1a1",
   "metadata": {},
   "outputs": [
    {
     "data": {
      "text/plain": [
       "9.0"
      ]
     },
     "execution_count": 81,
     "metadata": {},
     "output_type": "execute_result"
    }
   ],
   "source": [
    "# also exponentiation\n",
    "import math\n",
    "math.pow(3, 2)"
   ]
  },
  {
   "cell_type": "code",
   "execution_count": 82,
   "id": "f0b01420-1f5c-4fb8-b93e-4d33f3b51ea5",
   "metadata": {},
   "outputs": [
    {
     "data": {
      "text/plain": [
       "4"
      ]
     },
     "execution_count": 82,
     "metadata": {},
     "output_type": "execute_result"
    }
   ],
   "source": [
    "# floor division\n",
    "9 // 2"
   ]
  },
  {
   "cell_type": "code",
   "execution_count": 83,
   "id": "39c8a71f-9148-40e7-9889-0447388ea35d",
   "metadata": {},
   "outputs": [
    {
     "data": {
      "text/plain": [
       "3"
      ]
     },
     "execution_count": 83,
     "metadata": {},
     "output_type": "execute_result"
    }
   ],
   "source": [
    "# floor\n",
    "import math\n",
    "math.floor(3.8)"
   ]
  },
  {
   "cell_type": "code",
   "execution_count": 84,
   "id": "35825e73-ece4-43b3-898c-56e40618c8c3",
   "metadata": {},
   "outputs": [
    {
     "data": {
      "text/plain": [
       "4"
      ]
     },
     "execution_count": 84,
     "metadata": {},
     "output_type": "execute_result"
    }
   ],
   "source": [
    "# ceiling\n",
    "math.ceil(3.14)"
   ]
  },
  {
   "cell_type": "code",
   "execution_count": 85,
   "id": "b6ddc8e3-95eb-4549-80c0-2c164db47465",
   "metadata": {},
   "outputs": [
    {
     "data": {
      "text/plain": [
       "5"
      ]
     },
     "execution_count": 85,
     "metadata": {},
     "output_type": "execute_result"
    }
   ],
   "source": [
    "# in addition to finding max/min values in lists, max() and min() can take multiple arguments\n",
    "max(1, 2, 3, 4, 5)"
   ]
  },
  {
   "cell_type": "markdown",
   "id": "28b0ce96-3ca2-4131-8606-01556c4efc58",
   "metadata": {},
   "source": [
    "## 7. Bits"
   ]
  },
  {
   "cell_type": "code",
   "execution_count": 86,
   "id": "943ec081-90a7-4e62-857e-75d9bc7caa8d",
   "metadata": {},
   "outputs": [
    {
     "name": "stdout",
     "output_type": "stream",
     "text": [
      "15\n",
      "0b1111\n",
      "0xf\n"
     ]
    }
   ],
   "source": [
    "#  create a binary number\n",
    "x = 0b1111\n",
    "\n",
    "print(x) # equivalent to print(int(x))\n",
    "print(bin(x))\n",
    "print(hex(x))"
   ]
  },
  {
   "cell_type": "code",
   "execution_count": 87,
   "id": "20d94468-3cb8-4dfd-89b2-7ab94fd53546",
   "metadata": {},
   "outputs": [
    {
     "name": "stdout",
     "output_type": "stream",
     "text": [
      "15\n",
      "0b1111\n",
      "0xf\n"
     ]
    }
   ],
   "source": [
    "# create a hex number\n",
    "x = 0xf\n",
    "\n",
    "print(x)\n",
    "print(bin(x))\n",
    "print(hex(x))"
   ]
  },
  {
   "cell_type": "code",
   "execution_count": 88,
   "id": "6dd450fa-606e-4382-95f4-e3e541987faa",
   "metadata": {},
   "outputs": [
    {
     "data": {
      "text/plain": [
       "'0b111100'"
      ]
     },
     "execution_count": 88,
     "metadata": {},
     "output_type": "execute_result"
    }
   ],
   "source": [
    "# shift bits left\n",
    "x = 0b1111\n",
    "\n",
    "bin(x << 2)"
   ]
  },
  {
   "cell_type": "code",
   "execution_count": 89,
   "id": "26d7a7ea-fb73-44a7-b4ad-ae37edb560e0",
   "metadata": {},
   "outputs": [
    {
     "data": {
      "text/plain": [
       "'0b11'"
      ]
     },
     "execution_count": 89,
     "metadata": {},
     "output_type": "execute_result"
    }
   ],
   "source": [
    "# shift bits right\n",
    "x = 0b1111\n",
    "\n",
    "bin(x >> 2)"
   ]
  },
  {
   "cell_type": "code",
   "execution_count": 90,
   "id": "5816151f-f28b-48be-afa4-c50852a1bd6b",
   "metadata": {},
   "outputs": [
    {
     "data": {
      "text/plain": [
       "'0b1010'"
      ]
     },
     "execution_count": 90,
     "metadata": {},
     "output_type": "execute_result"
    }
   ],
   "source": [
    "# AND bits\n",
    "x = 0b1111\n",
    "y = 0b1010\n",
    "\n",
    "bin(x & y)"
   ]
  },
  {
   "cell_type": "code",
   "execution_count": 91,
   "id": "59c03d24-4f08-4ad9-96d5-4edbea94ee8e",
   "metadata": {},
   "outputs": [
    {
     "data": {
      "text/plain": [
       "'0b1111'"
      ]
     },
     "execution_count": 91,
     "metadata": {},
     "output_type": "execute_result"
    }
   ],
   "source": [
    "# OR bits\n",
    "x = 0b1111\n",
    "y = 0b1010\n",
    "\n",
    "bin(x | y)"
   ]
  },
  {
   "cell_type": "code",
   "execution_count": 92,
   "id": "49910b79-f797-4359-8697-5ff44caa1e59",
   "metadata": {},
   "outputs": [
    {
     "data": {
      "text/plain": [
       "'0b1010'"
      ]
     },
     "execution_count": 92,
     "metadata": {},
     "output_type": "execute_result"
    }
   ],
   "source": [
    "# XOR bits\n",
    "x = 0b0000\n",
    "y = 0b1010\n",
    "\n",
    "bin(x ^ y)"
   ]
  },
  {
   "cell_type": "code",
   "execution_count": 93,
   "id": "45fa0eb9-ffa0-4c19-ad95-09924af4b0e5",
   "metadata": {},
   "outputs": [
    {
     "name": "stdout",
     "output_type": "stream",
     "text": [
      "15\n",
      "-16\n",
      "-0b10000\n"
     ]
    }
   ],
   "source": [
    "# invert bits\n",
    "x = 0b1111\n",
    "\n",
    "print(x)\n",
    "print(~x)\n",
    "print(bin(~x))"
   ]
  },
  {
   "cell_type": "code",
   "execution_count": 94,
   "id": "caaffd37-5ec7-4480-ad8c-fb34c1700bfd",
   "metadata": {},
   "outputs": [
    {
     "name": "stdout",
     "output_type": "stream",
     "text": [
      "0b100\n"
     ]
    },
    {
     "data": {
      "text/plain": [
       "'0b1100'"
      ]
     },
     "execution_count": 94,
     "metadata": {},
     "output_type": "execute_result"
    }
   ],
   "source": [
    "# set specific bit to 1, 0-indexed from right\n",
    "x = 0b1000\n",
    "\n",
    "mask = 1 << 2 # third bit from right\n",
    "print(bin(mask))\n",
    "\n",
    "bin(x | mask)"
   ]
  },
  {
   "cell_type": "code",
   "execution_count": 95,
   "id": "65c1cfa7-9e62-45cc-a345-fd4031ff3b1a",
   "metadata": {},
   "outputs": [
    {
     "name": "stdout",
     "output_type": "stream",
     "text": [
      "0b100\n",
      "-0b101\n"
     ]
    },
    {
     "data": {
      "text/plain": [
       "'0b1011'"
      ]
     },
     "execution_count": 95,
     "metadata": {},
     "output_type": "execute_result"
    }
   ],
   "source": [
    "# set specific bit to 0, 0-indexed from right\n",
    "x = 0b1111\n",
    "\n",
    "mask = 1 << 2 # third bit from right\n",
    "print(bin(mask))\n",
    "\n",
    "mask = ~mask\n",
    "print(bin(mask))\n",
    "\n",
    "bin(x & mask)"
   ]
  },
  {
   "cell_type": "code",
   "execution_count": 96,
   "id": "aa8b2a11-af12-46e4-aa01-cbd48df258e1",
   "metadata": {},
   "outputs": [],
   "source": [
    "# some useful functions\n",
    "\n",
    "def get_bit(value, n):\n",
    "    return ((value >> n & 1) != 0)\n",
    "\n",
    "def set_bit(value, n):\n",
    "    return value | (1 << n)\n",
    "\n",
    "def clear_bit(value, n):\n",
    "    return value & ~(1 << n)"
   ]
  }
 ],
 "metadata": {
  "kernelspec": {
   "display_name": "Python 3 (ipykernel)",
   "language": "python",
   "name": "python3"
  },
  "language_info": {
   "codemirror_mode": {
    "name": "ipython",
    "version": 3
   },
   "file_extension": ".py",
   "mimetype": "text/x-python",
   "name": "python",
   "nbconvert_exporter": "python",
   "pygments_lexer": "ipython3",
   "version": "3.10.12"
  }
 },
 "nbformat": 4,
 "nbformat_minor": 5
}
