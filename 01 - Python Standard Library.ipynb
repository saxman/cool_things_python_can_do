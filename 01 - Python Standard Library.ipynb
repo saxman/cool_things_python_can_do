{
 "cells": [
  {
   "cell_type": "markdown",
   "id": "2ca46e83-c630-45ab-abcf-9fc92e6e5943",
   "metadata": {},
   "source": [
    "# Cool Things Python (3) Can Do\n",
    "\n",
    "This notebook is a collection of Python syntax and operations that make it an incredibly useful programming language. These aren't necessarily unique to Python; however, for people that are interested in growing their knowledge of Python, they can be useful."
   ]
  },
  {
   "cell_type": "markdown",
   "id": "959e8aff-d365-4bf6-991d-5f53e83e756b",
   "metadata": {},
   "source": [
    "## 1. Conditionals"
   ]
  },
  {
   "cell_type": "markdown",
   "id": "32c947d5-4e34-40c8-8cb6-145804a727bf",
   "metadata": {},
   "source": [
    "### 1.1 Single line if-else"
   ]
  },
  {
   "cell_type": "code",
   "execution_count": 11,
   "id": "de5bab1f-74de-45e9-9b82-7a4fad33b767",
   "metadata": {},
   "outputs": [
    {
     "name": "stdout",
     "output_type": "stream",
     "text": [
      "yup\n"
     ]
    }
   ],
   "source": [
    "a = 10\n",
    "if a == 10: print('yup')"
   ]
  },
  {
   "cell_type": "code",
   "execution_count": 2,
   "id": "64bde25c-aae4-4039-be2c-1393596a3be5",
   "metadata": {},
   "outputs": [
    {
     "data": {
      "text/plain": [
       "False"
      ]
     },
     "execution_count": 2,
     "metadata": {},
     "output_type": "execute_result"
    }
   ],
   "source": [
    "a = 10\n",
    "True if a == 11 else False"
   ]
  },
  {
   "cell_type": "code",
   "execution_count": 3,
   "id": "62ba2f2a-c55f-4375-9157-ab70abe580e9",
   "metadata": {},
   "outputs": [
    {
     "name": "stdout",
     "output_type": "stream",
     "text": [
      "nope\n"
     ]
    }
   ],
   "source": [
    "a = 10\n",
    "print('yes') if a == 11 else print('maybe') if a == 12 else print('nope')"
   ]
  },
  {
   "cell_type": "markdown",
   "id": "4d7a4096-6c0f-4506-a419-3d14da9cd626",
   "metadata": {},
   "source": [
    "### 1.2 Boundary checking"
   ]
  },
  {
   "cell_type": "code",
   "execution_count": 6,
   "id": "f21e9f5e-dbc2-4095-ba4a-499e39889185",
   "metadata": {},
   "outputs": [
    {
     "name": "stdout",
     "output_type": "stream",
     "text": [
      "not in java!\n"
     ]
    }
   ],
   "source": [
    "a = 10\n",
    "print('not in java!') if 0 <= a <= 20 else print('nope')"
   ]
  },
  {
   "cell_type": "markdown",
   "id": "79279bd9-e6e1-4c72-9fa6-8a831dbe24e1",
   "metadata": {},
   "source": [
    "### 1.3 Return with conditional\n",
    "\n",
    "Functions can include a conditional in their return.\n",
    "\n",
    "```python\n",
    "return a if conditional else b\n",
    "```\n",
    "\n",
    "This helps to avoid having multiple returns in single function."
   ]
  },
  {
   "cell_type": "code",
   "execution_count": 7,
   "id": "2523f5de-fc86-451c-af31-cac76c087735",
   "metadata": {},
   "outputs": [
    {
     "name": "stdout",
     "output_type": "stream",
     "text": [
      "False\n",
      "True\n"
     ]
    }
   ],
   "source": [
    "def bad_is_even(a):\n",
    "    if a % 2 == 0:\n",
    "        return True\n",
    "        \n",
    "    return False\n",
    "\n",
    "print(bad_is_even(1))\n",
    "print(bad_is_even(2))"
   ]
  },
  {
   "cell_type": "code",
   "execution_count": 8,
   "id": "7a58886c-4e40-4d4e-aa3f-e33589fd647d",
   "metadata": {},
   "outputs": [
    {
     "name": "stdout",
     "output_type": "stream",
     "text": [
      "False\n",
      "True\n"
     ]
    }
   ],
   "source": [
    "def good_is_even(a):\n",
    "    return True if a % 2 == 0 else False\n",
    "\n",
    "print(good_is_even(1))\n",
    "print(good_is_even(2))"
   ]
  },
  {
   "cell_type": "markdown",
   "id": "12e548dc-df97-4a05-aee4-12f62b1636eb",
   "metadata": {},
   "source": [
    "## 2. Strings"
   ]
  },
  {
   "cell_type": "markdown",
   "id": "b8be51cc-4b44-4350-962f-f047480f3dd2",
   "metadata": {},
   "source": [
    "### 2.1 Concatenation\n",
    "\n",
    "A list of strings can quickly be concatenated.\n",
    "\n",
    "```python\n",
    "str.join(iterable)\n",
    "```"
   ]
  },
  {
   "cell_type": "code",
   "execution_count": 16,
   "id": "d0818ab7-3c46-4c56-a562-1d1312107ccd",
   "metadata": {},
   "outputs": [
    {
     "data": {
      "text/plain": [
       "'pneumonoultramicroscopicsilicovolcanoconiosis'"
      ]
     },
     "execution_count": 16,
     "metadata": {},
     "output_type": "execute_result"
    }
   ],
   "source": [
    "some_string = ['pneumono', 'ultra', 'microscopic', 'silico', 'volcano',  'coniosis']\n",
    "''.join(some_string)"
   ]
  },
  {
   "cell_type": "markdown",
   "id": "506b721f-3237-4df7-8b11-d334cf5ee53d",
   "metadata": {},
   "source": [
    "### 2.2 String constants\n",
    "\n",
    "Python includes a set of string constants that can help with processing."
   ]
  },
  {
   "cell_type": "code",
   "execution_count": 18,
   "id": "410806f8-48c0-481a-84d1-13a44a6cf43e",
   "metadata": {},
   "outputs": [
    {
     "data": {
      "text/plain": [
       "'abcdefghijklmnopqrstuvwxyzABCDEFGHIJKLMNOPQRSTUVWXYZ'"
      ]
     },
     "execution_count": 18,
     "metadata": {},
     "output_type": "execute_result"
    }
   ],
   "source": [
    "import string\n",
    "\n",
    "string.ascii_letters"
   ]
  },
  {
   "cell_type": "code",
   "execution_count": 21,
   "id": "17223aa3-8d38-4ea5-be3a-c8f7483c7240",
   "metadata": {},
   "outputs": [
    {
     "name": "stdout",
     "output_type": "stream",
     "text": [
      "abcdefghijklmnopqrstuvwxyz\n",
      "97 122\n",
      "abcdefghijklmnopqrstuvwxyz\n"
     ]
    }
   ],
   "source": [
    "print(string.ascii_lowercase)\n",
    "\n",
    "print(ord('a'), ord('z'))\n",
    "print(''.join(chr(x) for x in range(ord('a'), ord('z') + 1)))"
   ]
  },
  {
   "cell_type": "code",
   "execution_count": 22,
   "id": "9233749b-e088-4b0a-ba70-06d0fbde5fab",
   "metadata": {},
   "outputs": [
    {
     "name": "stdout",
     "output_type": "stream",
     "text": [
      "ABCDEFGHIJKLMNOPQRSTUVWXYZ\n",
      "65 90\n",
      "ABCDEFGHIJKLMNOPQRSTUVWXYZ\n"
     ]
    }
   ],
   "source": [
    "print(string.ascii_uppercase)\n",
    "\n",
    "print(ord('A'), ord('Z'))\n",
    "print(''.join(chr(x) for x in range(ord('A'), ord('Z') + 1)))"
   ]
  },
  {
   "cell_type": "code",
   "execution_count": 23,
   "id": "cc0f42e1-c728-4ac8-be62-830f510e5df9",
   "metadata": {},
   "outputs": [
    {
     "name": "stdout",
     "output_type": "stream",
     "text": [
      "0123456789\n",
      "48 57\n",
      "0123456789\n"
     ]
    }
   ],
   "source": [
    "print(string.digits)\n",
    "\n",
    "print(ord('0'), ord('9'))\n",
    "print(''.join(chr(x) for x in range(ord('0'), ord('9') + 1)))"
   ]
  },
  {
   "cell_type": "code",
   "execution_count": 24,
   "id": "10927e7f-bdae-4804-8209-db0ef19587c9",
   "metadata": {},
   "outputs": [
    {
     "data": {
      "text/plain": [
       "'0123456789abcdefABCDEF'"
      ]
     },
     "execution_count": 24,
     "metadata": {},
     "output_type": "execute_result"
    }
   ],
   "source": [
    "string.hexdigits"
   ]
  },
  {
   "cell_type": "code",
   "execution_count": 25,
   "id": "c407c11b-71b1-4489-ac44-137301c6edc3",
   "metadata": {},
   "outputs": [
    {
     "data": {
      "text/plain": [
       "'01234567'"
      ]
     },
     "execution_count": 25,
     "metadata": {},
     "output_type": "execute_result"
    }
   ],
   "source": [
    "string.octdigits"
   ]
  },
  {
   "cell_type": "code",
   "execution_count": 26,
   "id": "62880091-060f-4539-a661-0d79abf740a8",
   "metadata": {},
   "outputs": [
    {
     "data": {
      "text/plain": [
       "'!\"#$%&\\'()*+,-./:;<=>?@[\\\\]^_`{|}~'"
      ]
     },
     "execution_count": 26,
     "metadata": {},
     "output_type": "execute_result"
    }
   ],
   "source": [
    "string.punctuation"
   ]
  },
  {
   "cell_type": "code",
   "execution_count": 27,
   "id": "2b1aa2e5-30cf-454c-a0d3-6f0771a90c1d",
   "metadata": {},
   "outputs": [
    {
     "data": {
      "text/plain": [
       "'0123456789abcdefghijklmnopqrstuvwxyzABCDEFGHIJKLMNOPQRSTUVWXYZ!\"#$%&\\'()*+,-./:;<=>?@[\\\\]^_`{|}~ \\t\\n\\r\\x0b\\x0c'"
      ]
     },
     "execution_count": 27,
     "metadata": {},
     "output_type": "execute_result"
    }
   ],
   "source": [
    "string.printable"
   ]
  },
  {
   "cell_type": "code",
   "execution_count": 19,
   "id": "c6697848-246c-447d-a88f-f58b113d6266",
   "metadata": {
    "scrolled": true
   },
   "outputs": [
    {
     "data": {
      "text/plain": [
       "' \\t\\n\\r\\x0b\\x0c'"
      ]
     },
     "execution_count": 19,
     "metadata": {},
     "output_type": "execute_result"
    }
   ],
   "source": [
    "string.whitespace"
   ]
  },
  {
   "cell_type": "markdown",
   "id": "e844bafc-e2ea-4dca-8b12-dba5e0d1a8b7",
   "metadata": {},
   "source": [
    "### 2.3 String functions\n",
    "\n",
    "TODO"
   ]
  },
  {
   "cell_type": "markdown",
   "id": "eb00c09c-703f-4af8-bb29-3323898b8b4a",
   "metadata": {},
   "source": [
    "### 2.4 f-strings\n",
    "\n",
    "*f-strings* allows for inline formatting for string."
   ]
  },
  {
   "cell_type": "code",
   "execution_count": 20,
   "id": "bf2e50a0-2f64-4e3f-8f1a-ba0478baa7ed",
   "metadata": {},
   "outputs": [
    {
     "data": {
      "text/plain": [
       "'a = 10'"
      ]
     },
     "execution_count": 20,
     "metadata": {},
     "output_type": "execute_result"
    }
   ],
   "source": [
    "# basic\n",
    "a = 10\n",
    "f'a = {a}'"
   ]
  },
  {
   "cell_type": "code",
   "execution_count": 21,
   "id": "13c40f4f-9796-4155-aa99-a2d8fedda7bb",
   "metadata": {},
   "outputs": [
    {
     "data": {
      "text/plain": [
       "'a = 11'"
      ]
     },
     "execution_count": 21,
     "metadata": {},
     "output_type": "execute_result"
    }
   ],
   "source": [
    "# expressions\n",
    "a = 10\n",
    "f'a = {a + 1}'"
   ]
  },
  {
   "cell_type": "code",
   "execution_count": 22,
   "id": "64d17681-7c84-45db-987a-2ea485f3cca5",
   "metadata": {},
   "outputs": [
    {
     "data": {
      "text/plain": [
       "'len a = 3'"
      ]
     },
     "execution_count": 22,
     "metadata": {},
     "output_type": "execute_result"
    }
   ],
   "source": [
    "# functions\n",
    "a = [1, 2, 3]\n",
    "f'len a = {len(a)}'"
   ]
  },
  {
   "cell_type": "code",
   "execution_count": 23,
   "id": "f9a347be-f6f0-40f1-9d59-ed3a91f7c637",
   "metadata": {},
   "outputs": [
    {
     "data": {
      "text/plain": [
       "\"his name is 'Fred'\""
      ]
     },
     "execution_count": 23,
     "metadata": {},
     "output_type": "execute_result"
    }
   ],
   "source": [
    "# representation\n",
    "a = 'Fred'\n",
    "f'his name is {a!r}'"
   ]
  },
  {
   "cell_type": "markdown",
   "id": "c151defc-f5ba-4ab5-8fca-a512b160f439",
   "metadata": {},
   "source": [
    "## 3. Lists"
   ]
  },
  {
   "cell_type": "markdown",
   "id": "f58424c6-8122-43ef-9aba-7a3ad319d58e",
   "metadata": {},
   "source": [
    "### 3.1 Multi-dimension arrays\n",
    "\n",
    "There are a few ways to initialize multi-dimensional arrays in Python. One way has a potemtial gotcha."
   ]
  },
  {
   "cell_type": "code",
   "execution_count": 23,
   "id": "a4faceaa-5b88-4ced-9847-d7ea20e132c6",
   "metadata": {},
   "outputs": [
    {
     "name": "stdout",
     "output_type": "stream",
     "text": [
      "[[1, 0, 0, 0, 0], [1, 0, 0, 0, 0], [1, 0, 0, 0, 0], [1, 0, 0, 0, 0]]\n"
     ]
    }
   ],
   "source": [
    "cols = 5\n",
    "rows = 4\n",
    "\n",
    "# create a NxM deminsional array, but with each row duplicated!\n",
    "a = [[0]*cols]*rows\n",
    "a[0][0] = 1\n",
    "print(a)"
   ]
  },
  {
   "cell_type": "code",
   "execution_count": 24,
   "id": "206ff81d-76c3-4d2c-b81a-528c0d35ff9a",
   "metadata": {},
   "outputs": [
    {
     "name": "stdout",
     "output_type": "stream",
     "text": [
      "[[1, 0, 0, 0, 0], [0, 0, 0, 0, 0], [0, 0, 0, 0, 0], [0, 0, 0, 0, 0]]\n"
     ]
    }
   ],
   "source": [
    "# each row is unique\n",
    "a = [[0]*cols for _ in [0]*rows]\n",
    "a[0][0] = 1\n",
    "print(a)"
   ]
  },
  {
   "cell_type": "code",
   "execution_count": 25,
   "id": "0d48258e-9dc7-4dcb-8adf-8c265946a9a0",
   "metadata": {},
   "outputs": [
    {
     "name": "stdout",
     "output_type": "stream",
     "text": [
      "[[1, 0, 0, 0, 0], [0, 0, 0, 0, 0], [0, 0, 0, 0, 0], [0, 0, 0, 0, 0]]\n"
     ]
    }
   ],
   "source": [
    "# each row is unique, with cleaner syntax (IMHO)\n",
    "a = [[0]*cols for _ in range(rows)]\n",
    "a[0][0] = 1\n",
    "print(a)"
   ]
  },
  {
   "cell_type": "markdown",
   "id": "3e04e780-450d-4987-8d54-17f4afa44ff2",
   "metadata": {},
   "source": [
    "## 4. List comprehension"
   ]
  },
  {
   "cell_type": "markdown",
   "id": "21bd9bbe-27e6-419d-b7e9-9e9de63f666a",
   "metadata": {},
   "source": [
    "#### 3.1 Basic syntax\n",
    "\n",
    "New lists can easily be created from existing lists in a single line.\n",
    "\n",
    "```python\n",
    "[expression for x in some_list]\n",
    "```\n",
    "\n",
    "For each item in some_list, add an item in a new list following an expression."
   ]
  },
  {
   "cell_type": "code",
   "execution_count": 1,
   "id": "86554779-4527-4106-a0e3-566d0ae519d2",
   "metadata": {},
   "outputs": [
    {
     "data": {
      "text/plain": [
       "[2, 3, 4]"
      ]
     },
     "execution_count": 1,
     "metadata": {},
     "output_type": "execute_result"
    }
   ],
   "source": [
    "# without list comprehension\n",
    "some_list = [1, 2, 3]\n",
    "new_list = []\n",
    "\n",
    "for x in some_list:\n",
    "    new_list.append(x + 1)\n",
    "\n",
    "new_list"
   ]
  },
  {
   "cell_type": "code",
   "execution_count": 2,
   "id": "9f348611-dacb-4264-a661-38a24b5ec9d8",
   "metadata": {},
   "outputs": [
    {
     "data": {
      "text/plain": [
       "[2, 3, 4]"
      ]
     },
     "execution_count": 2,
     "metadata": {},
     "output_type": "execute_result"
    }
   ],
   "source": [
    "some_list = [1, 2, 3]\n",
    "[x + 1 for x in some_list]"
   ]
  },
  {
   "cell_type": "code",
   "execution_count": 3,
   "id": "a8a735cb-3708-4c27-84bf-ba52b13d089b",
   "metadata": {},
   "outputs": [
    {
     "data": {
      "text/plain": [
       "[False, True, False, True]"
      ]
     },
     "execution_count": 3,
     "metadata": {},
     "output_type": "execute_result"
    }
   ],
   "source": [
    "# the expression can be more complex\n",
    "some_list = [1, 2, 3, 4]\n",
    "[x % 2 == 0 for x in some_list]"
   ]
  },
  {
   "cell_type": "markdown",
   "id": "eac28236-6d61-4414-900a-d633468fb87c",
   "metadata": {},
   "source": [
    "#### 4.2 Filter conditions\n",
    "\n",
    "List comprehension statements can include a conditional at the end for filtering items.\n",
    "\n",
    "```python\n",
    "[expression for x in some_list if condition == True]\n",
    "```"
   ]
  },
  {
   "cell_type": "code",
   "execution_count": 4,
   "id": "2969b595-bc12-4cf9-b0cc-de5825777b2f",
   "metadata": {},
   "outputs": [
    {
     "data": {
      "text/plain": [
       "[0, 1, 2]"
      ]
     },
     "execution_count": 4,
     "metadata": {},
     "output_type": "execute_result"
    }
   ],
   "source": [
    "# remove all negative numbers\n",
    "some_list = [-2, -1, 0, 1, 2]\n",
    "[x for x in some_list if x >= 0]"
   ]
  },
  {
   "cell_type": "markdown",
   "id": "7ae40335-18cd-4901-a71c-02bb7b6c3fa1",
   "metadata": {},
   "source": [
    "### 4.3 Conditional expressions\n",
    "\n",
    "The expression in a list comprehension statement can be a conditional.\n",
    "\n",
    "```python\n",
    "[a if condition == True else b for x in some_list]\n",
    "```"
   ]
  },
  {
   "cell_type": "code",
   "execution_count": 5,
   "id": "eeb2b71c-a0e7-4993-84df-ce88e4dcd2be",
   "metadata": {},
   "outputs": [
    {
     "data": {
      "text/plain": [
       "[0, 0, 0, 1, 2]"
      ]
     },
     "execution_count": 5,
     "metadata": {},
     "output_type": "execute_result"
    }
   ],
   "source": [
    "# make all negative numbers zero\n",
    "some_list = [-2, -1, 0, 1, 2]\n",
    "[x if x > 0 else 0 for x in some_list]"
   ]
  },
  {
   "cell_type": "markdown",
   "id": "12d1ac98-8b1f-4bcf-a125-01191550b933",
   "metadata": {},
   "source": [
    "### 4.4 With strings\n",
    "\n",
    "Strings are *iterable*, so it's easy to process them one character at a time using list comprehension.\n",
    "\n",
    "Ref: https://www.pythonlikeyoumeanit.com/Module2_EssentialsOfPython/Iterables.html"
   ]
  },
  {
   "cell_type": "code",
   "execution_count": 6,
   "id": "5706c3cc-336a-45c5-8ab7-08876f555948",
   "metadata": {},
   "outputs": [
    {
     "data": {
      "text/plain": [
       "['a', 'e', 'i', 'o', 'u']"
      ]
     },
     "execution_count": 6,
     "metadata": {},
     "output_type": "execute_result"
    }
   ],
   "source": [
    "[x for x in 'aeiou']"
   ]
  },
  {
   "cell_type": "code",
   "execution_count": 7,
   "id": "32113649-80fb-44e5-9e4e-c33bdb768255",
   "metadata": {},
   "outputs": [
    {
     "data": {
      "text/plain": [
       "'Nw s th tm fr ll gd ctzns t cm t th d f thr cntry.'"
      ]
     },
     "execution_count": 7,
     "metadata": {},
     "output_type": "execute_result"
    }
   ],
   "source": [
    "# remove all vowels from the input string\n",
    "some_string = 'Now is the time for all good citizens to come to the aid of their country.'\n",
    "''.join('' if x in 'aeiou' else x for x in some_string)"
   ]
  },
  {
   "cell_type": "code",
   "execution_count": 8,
   "id": "2d0f0c86-e153-4641-a31c-3197542c6ae7",
   "metadata": {},
   "outputs": [
    {
     "data": {
      "text/plain": [
       "[1, 2, 3, 4, 5, 6, 7, 8, 9, 0]"
      ]
     },
     "execution_count": 8,
     "metadata": {},
     "output_type": "execute_result"
    }
   ],
   "source": [
    "# create a list of digits in a integer\n",
    "some_int = 1234567890\n",
    "[int(x) for x in str(some_int)]"
   ]
  },
  {
   "cell_type": "markdown",
   "id": "1ba291aa-c64c-4855-b86e-711089b2e6db",
   "metadata": {},
   "source": [
    "## 5. List slicing\n",
    "\n",
    "Portions of lists (and strings!) can be accessed using the notation:\n",
    "\n",
    "```python\n",
    "a[start:stop:step]\n",
    "```\n",
    "\n",
    "Note that the slice will NOT include the item at the stop index. *stop* is the item after the slice."
   ]
  },
  {
   "cell_type": "code",
   "execution_count": 9,
   "id": "e4575713-7d91-4b74-ac56-895861094ddd",
   "metadata": {},
   "outputs": [
    {
     "data": {
      "text/plain": [
       "[1, 2]"
      ]
     },
     "execution_count": 9,
     "metadata": {},
     "output_type": "execute_result"
    }
   ],
   "source": [
    "# get the fist two items in a list\n",
    "a = [1, 2, 3]\n",
    "a[0:2]"
   ]
  },
  {
   "cell_type": "code",
   "execution_count": 10,
   "id": "cc01183a-4865-4d8c-be32-ce2ebd2419a7",
   "metadata": {},
   "outputs": [
    {
     "data": {
      "text/plain": [
       "[1, 2]"
      ]
     },
     "execution_count": 10,
     "metadata": {},
     "output_type": "execute_result"
    }
   ],
   "source": [
    "# shorthand. start index defaults to 0\n",
    "a = [1, 2, 3]\n",
    "a[:2]"
   ]
  },
  {
   "cell_type": "code",
   "execution_count": 11,
   "id": "c9d61b60-e43c-4ca0-8800-abdd98d9cdc7",
   "metadata": {},
   "outputs": [
    {
     "data": {
      "text/plain": [
       "[2, 3]"
      ]
     },
     "execution_count": 11,
     "metadata": {},
     "output_type": "execute_result"
    }
   ],
   "source": [
    "# exerything but the first (from 1 to end). No need to include len(n) for stop.\n",
    "a = [1, 2, 3]\n",
    "a[1:]"
   ]
  },
  {
   "cell_type": "code",
   "execution_count": 12,
   "id": "42ea14bb-b5c7-423a-a993-e3a304d56190",
   "metadata": {},
   "outputs": [
    {
     "data": {
      "text/plain": [
       "3"
      ]
     },
     "execution_count": 12,
     "metadata": {},
     "output_type": "execute_result"
    }
   ],
   "source": [
    "# last item\n",
    "a = [1, 2, 3]\n",
    "a[-1]"
   ]
  },
  {
   "cell_type": "code",
   "execution_count": 13,
   "id": "b3c090c9-684c-42ab-997f-4a4f3e1f9d38",
   "metadata": {},
   "outputs": [
    {
     "data": {
      "text/plain": [
       "[2, 3]"
      ]
     },
     "execution_count": 13,
     "metadata": {},
     "output_type": "execute_result"
    }
   ],
   "source": [
    "# last 2 items\n",
    "a = [1, 2, 3]\n",
    "a[-2:]"
   ]
  },
  {
   "cell_type": "code",
   "execution_count": 14,
   "id": "73c44d9b-f145-4fde-bb94-bd904230f19f",
   "metadata": {},
   "outputs": [
    {
     "data": {
      "text/plain": [
       "[1, 3]"
      ]
     },
     "execution_count": 14,
     "metadata": {},
     "output_type": "execute_result"
    }
   ],
   "source": [
    "# every other\n",
    "a = [1, 2, 3, 4]\n",
    "a[::2]"
   ]
  },
  {
   "cell_type": "code",
   "execution_count": 15,
   "id": "ff4d8db1-a676-4146-b12f-ac622c4c29e7",
   "metadata": {},
   "outputs": [
    {
     "data": {
      "text/plain": [
       "[3, 2, 1]"
      ]
     },
     "execution_count": 15,
     "metadata": {},
     "output_type": "execute_result"
    }
   ],
   "source": [
    "# reverse the list\n",
    "a = [1, 2, 3]\n",
    "a[::-1]"
   ]
  },
  {
   "cell_type": "markdown",
   "id": "3297aa89-408c-48e7-b359-3f5ce001c0e1",
   "metadata": {},
   "source": [
    "## 6. Math operations\n",
    "\n",
    "The following are a colleciton of common math operations in Python. The *math* library includes a whole lot more.\n",
    "\n",
    "Ref: https://docs.python.org/3/library/math.html"
   ]
  },
  {
   "cell_type": "code",
   "execution_count": 24,
   "id": "2c24cc03-265e-48de-ad77-79cff63e4b91",
   "metadata": {},
   "outputs": [
    {
     "data": {
      "text/plain": [
       "9"
      ]
     },
     "execution_count": 24,
     "metadata": {},
     "output_type": "execute_result"
    }
   ],
   "source": [
    "# exponentiation\n",
    "3 ** 2"
   ]
  },
  {
   "cell_type": "code",
   "execution_count": 29,
   "id": "62d673f5-aaaa-485d-8b23-6f7ba61dd584",
   "metadata": {},
   "outputs": [
    {
     "data": {
      "text/plain": [
       "9"
      ]
     },
     "execution_count": 29,
     "metadata": {},
     "output_type": "execute_result"
    }
   ],
   "source": [
    "# also exponentiation\n",
    "pow(3, 2)"
   ]
  },
  {
   "cell_type": "code",
   "execution_count": 34,
   "id": "0639cfa7-76e5-4613-a76f-ceefc358b1a1",
   "metadata": {},
   "outputs": [
    {
     "data": {
      "text/plain": [
       "9.0"
      ]
     },
     "execution_count": 34,
     "metadata": {},
     "output_type": "execute_result"
    }
   ],
   "source": [
    "# also exponentiation\n",
    "import math\n",
    "math.pow(3, 2)"
   ]
  },
  {
   "cell_type": "code",
   "execution_count": 25,
   "id": "f0b01420-1f5c-4fb8-b93e-4d33f3b51ea5",
   "metadata": {},
   "outputs": [
    {
     "data": {
      "text/plain": [
       "4"
      ]
     },
     "execution_count": 25,
     "metadata": {},
     "output_type": "execute_result"
    }
   ],
   "source": [
    "# floor division\n",
    "9 // 2"
   ]
  },
  {
   "cell_type": "code",
   "execution_count": 26,
   "id": "1d364fba-fb17-46e7-9cc1-637a13f8c88d",
   "metadata": {},
   "outputs": [
    {
     "data": {
      "text/plain": [
       "3"
      ]
     },
     "execution_count": 26,
     "metadata": {},
     "output_type": "execute_result"
    }
   ],
   "source": [
    "# maximal\n",
    "a = [1, 2, 3]\n",
    "max(a)"
   ]
  },
  {
   "cell_type": "code",
   "execution_count": 27,
   "id": "594b6039-a265-4ef9-8c20-3134d4aaf157",
   "metadata": {},
   "outputs": [
    {
     "data": {
      "text/plain": [
       "1"
      ]
     },
     "execution_count": 27,
     "metadata": {},
     "output_type": "execute_result"
    }
   ],
   "source": [
    "# min\n",
    "a = [1, 2, 3]\n",
    "min(a)"
   ]
  },
  {
   "cell_type": "code",
   "execution_count": 28,
   "id": "70fb2786-10a6-47a6-b3eb-b1ddee369f69",
   "metadata": {},
   "outputs": [
    {
     "data": {
      "text/plain": [
       "6"
      ]
     },
     "execution_count": 28,
     "metadata": {},
     "output_type": "execute_result"
    }
   ],
   "source": [
    "# sum\n",
    "a = [1, 2, 3]\n",
    "sum(a)"
   ]
  },
  {
   "cell_type": "code",
   "execution_count": 31,
   "id": "39c8a71f-9148-40e7-9889-0447388ea35d",
   "metadata": {},
   "outputs": [
    {
     "data": {
      "text/plain": [
       "3"
      ]
     },
     "execution_count": 31,
     "metadata": {},
     "output_type": "execute_result"
    }
   ],
   "source": [
    "# floor\n",
    "import math\n",
    "math.floor(3.8)"
   ]
  },
  {
   "cell_type": "code",
   "execution_count": 32,
   "id": "35825e73-ece4-43b3-898c-56e40618c8c3",
   "metadata": {},
   "outputs": [
    {
     "data": {
      "text/plain": [
       "4"
      ]
     },
     "execution_count": 32,
     "metadata": {},
     "output_type": "execute_result"
    }
   ],
   "source": [
    "# ceiling\n",
    "math.ceil(3.14)"
   ]
  },
  {
   "cell_type": "code",
   "execution_count": null,
   "id": "4c0b7938-18df-4168-a0d3-f8826d6c0816",
   "metadata": {},
   "outputs": [],
   "source": []
  }
 ],
 "metadata": {
  "kernelspec": {
   "display_name": "Python 3 (ipykernel)",
   "language": "python",
   "name": "python3"
  },
  "language_info": {
   "codemirror_mode": {
    "name": "ipython",
    "version": 3
   },
   "file_extension": ".py",
   "mimetype": "text/x-python",
   "name": "python",
   "nbconvert_exporter": "python",
   "pygments_lexer": "ipython3",
   "version": "3.10.12"
  }
 },
 "nbformat": 4,
 "nbformat_minor": 5
}
