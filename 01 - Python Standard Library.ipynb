{
 "cells": [
  {
   "cell_type": "markdown",
   "id": "2ca46e83-c630-45ab-abcf-9fc92e6e5943",
   "metadata": {},
   "source": [
    "# Python Standard Library\n",
    "\n",
    "This notebook is a collection of Python syntax and operations that make it an incredibly useful programming language. These aren't necessarily unique to Python; however, for people that are interested in growing their knowledge of Python, they can be useful.\n",
    "\n",
    "Ref: https://docs.python.org/3/library/index.html"
   ]
  },
  {
   "cell_type": "markdown",
   "id": "959e8aff-d365-4bf6-991d-5f53e83e756b",
   "metadata": {},
   "source": [
    "## 1. Conditionals\n",
    "\n",
    "Conditional expressions (if-else statements) can be expressed in a compact manner is Python."
   ]
  },
  {
   "cell_type": "markdown",
   "id": "32c947d5-4e34-40c8-8cb6-145804a727bf",
   "metadata": {},
   "source": [
    "### 1.1 Single line if/if-else"
   ]
  },
  {
   "cell_type": "code",
   "execution_count": 1,
   "id": "de5bab1f-74de-45e9-9b82-7a4fad33b767",
   "metadata": {},
   "outputs": [
    {
     "name": "stdout",
     "output_type": "stream",
     "text": [
      "yup\n"
     ]
    }
   ],
   "source": [
    "a = 10\n",
    "if a == 10: print('yup')"
   ]
  },
  {
   "cell_type": "code",
   "execution_count": 2,
   "id": "64bde25c-aae4-4039-be2c-1393596a3be5",
   "metadata": {},
   "outputs": [
    {
     "name": "stdout",
     "output_type": "stream",
     "text": [
      "maybe\n"
     ]
    }
   ],
   "source": [
    "# if-else\n",
    "a = 10\n",
    "print('nope') if a == 11 else print('maybe')"
   ]
  },
  {
   "cell_type": "code",
   "execution_count": 3,
   "id": "62ba2f2a-c55f-4375-9157-ab70abe580e9",
   "metadata": {},
   "outputs": [
    {
     "name": "stdout",
     "output_type": "stream",
     "text": [
      "yup\n"
     ]
    }
   ],
   "source": [
    "# nested conditionals\n",
    "a = 10\n",
    "print('hot') if a == 11 else print('cold') if a == 12 else print('yup')"
   ]
  },
  {
   "cell_type": "code",
   "execution_count": 4,
   "id": "83a7d908-3817-448b-a22e-a790f0d0d50a",
   "metadata": {},
   "outputs": [
    {
     "data": {
      "text/plain": [
       "30"
      ]
     },
     "execution_count": 4,
     "metadata": {},
     "output_type": "execute_result"
    }
   ],
   "source": [
    "# conditional results as arguments to functions like max/min\n",
    "# NOTE: the else is required, otherwise, if the condition is not met, the argument is undefined\n",
    "x = 'c'\n",
    "max(10 if x == 'a' else 0, 20 if x == 'b' else 0, 30 if x == 'c' else 0)"
   ]
  },
  {
   "cell_type": "markdown",
   "id": "4d7a4096-6c0f-4506-a419-3d14da9cd626",
   "metadata": {},
   "source": [
    "### 1.2 Boundary checking\n",
    "\n",
    "Variables can be evaluated relative to two other values without using AND, which is required in other programming languages."
   ]
  },
  {
   "cell_type": "code",
   "execution_count": 5,
   "id": "874e95c2-62f7-4696-bfa2-5176137a68cb",
   "metadata": {},
   "outputs": [
    {
     "name": "stdout",
     "output_type": "stream",
     "text": [
      "this works\n"
     ]
    }
   ],
   "source": [
    "# traditional way\n",
    "a = 10\n",
    "if a >= 0 and a <= 20:\n",
    "    print('this works')"
   ]
  },
  {
   "cell_type": "code",
   "execution_count": 6,
   "id": "f21e9f5e-dbc2-4095-ba4a-499e39889185",
   "metadata": {},
   "outputs": [
    {
     "name": "stdout",
     "output_type": "stream",
     "text": [
      "not in java!\n"
     ]
    }
   ],
   "source": [
    "# compact\n",
    "a = 10\n",
    "print('not in java!') if 0 <= a <= 20 else print('nope')"
   ]
  },
  {
   "cell_type": "markdown",
   "id": "79279bd9-e6e1-4c72-9fa6-8a831dbe24e1",
   "metadata": {},
   "source": [
    "### 1.3 Return with conditional\n",
    "\n",
    "Functions can include a conditional in their return.\n",
    "\n",
    "```python\n",
    "return a if conditional else b\n",
    "```\n",
    "\n",
    "This helps to avoid having multiple returns in single function."
   ]
  },
  {
   "cell_type": "code",
   "execution_count": 7,
   "id": "2523f5de-fc86-451c-af31-cac76c087735",
   "metadata": {},
   "outputs": [
    {
     "name": "stdout",
     "output_type": "stream",
     "text": [
      "False\n",
      "True\n"
     ]
    }
   ],
   "source": [
    "def bad_is_even(a):\n",
    "    if a % 2 == 0:\n",
    "        return True\n",
    "        \n",
    "    return False\n",
    "\n",
    "print(bad_is_even(1))\n",
    "print(bad_is_even(2))"
   ]
  },
  {
   "cell_type": "code",
   "execution_count": 8,
   "id": "7a58886c-4e40-4d4e-aa3f-e33589fd647d",
   "metadata": {},
   "outputs": [
    {
     "name": "stdout",
     "output_type": "stream",
     "text": [
      "False\n",
      "True\n"
     ]
    }
   ],
   "source": [
    "def good_is_even(a):\n",
    "    return True if a % 2 == 0 else False\n",
    "\n",
    "print(good_is_even(1))\n",
    "print(good_is_even(2))"
   ]
  },
  {
   "cell_type": "markdown",
   "id": "12e548dc-df97-4a05-aee4-12f62b1636eb",
   "metadata": {},
   "source": [
    "## 2. Strings"
   ]
  },
  {
   "cell_type": "markdown",
   "id": "b8be51cc-4b44-4350-962f-f047480f3dd2",
   "metadata": {},
   "source": [
    "### 2.1 String manipulation"
   ]
  },
  {
   "cell_type": "code",
   "execution_count": 9,
   "id": "d0818ab7-3c46-4c56-a562-1d1312107ccd",
   "metadata": {},
   "outputs": [
    {
     "data": {
      "text/plain": [
       "'pneumonoultramicroscopicsilicovolcanoconiosis'"
      ]
     },
     "execution_count": 9,
     "metadata": {},
     "output_type": "execute_result"
    }
   ],
   "source": [
    "# concatenating strings in a list\n",
    "some_string = ['pneumono', 'ultra', 'microscopic', 'silico', 'volcano',  'coniosis']\n",
    "''.join(some_string)"
   ]
  },
  {
   "cell_type": "code",
   "execution_count": 10,
   "id": "5fc8a08b-4092-46f8-b41d-609f1d776911",
   "metadata": {},
   "outputs": [
    {
     "data": {
      "text/plain": [
       "['now', 'is', 'the', 'time', 'for', 'all', 'good', 'citizens']"
      ]
     },
     "execution_count": 10,
     "metadata": {},
     "output_type": "execute_result"
    }
   ],
   "source": [
    "# splitting on character\n",
    "some_string = \"now is the time for all good citizens\"\n",
    "some_string.split(' ')"
   ]
  },
  {
   "cell_type": "markdown",
   "id": "38bb24fb-7b87-4319-925e-b4b0f43a7c74",
   "metadata": {},
   "source": [
    "### 2.2 Character manipulation"
   ]
  },
  {
   "cell_type": "code",
   "execution_count": 11,
   "id": "8866a4fb-8683-4590-ab48-aa23f8a6aab1",
   "metadata": {},
   "outputs": [
    {
     "data": {
      "text/plain": [
       "'b'"
      ]
     },
     "execution_count": 11,
     "metadata": {},
     "output_type": "execute_result"
    }
   ],
   "source": [
    "# modify chars as integers\n",
    "chr(ord('a') + 1)"
   ]
  },
  {
   "cell_type": "code",
   "execution_count": 12,
   "id": "8f62b4db-74ba-46ed-b1cd-33205fb19e11",
   "metadata": {},
   "outputs": [
    {
     "name": "stdout",
     "output_type": "stream",
     "text": [
      "0b1100001\n",
      "a\n"
     ]
    }
   ],
   "source": [
    "# char to binary to char\n",
    "x = bin(ord('a'))\n",
    "print(x)\n",
    "\n",
    "y = chr(int(x, 2))\n",
    "print(y)"
   ]
  },
  {
   "cell_type": "markdown",
   "id": "506b721f-3237-4df7-8b11-d334cf5ee53d",
   "metadata": {},
   "source": [
    "### 2.3 String constants\n",
    "\n",
    "Python includes a set of string constants that can help with processing."
   ]
  },
  {
   "cell_type": "code",
   "execution_count": 13,
   "id": "410806f8-48c0-481a-84d1-13a44a6cf43e",
   "metadata": {},
   "outputs": [
    {
     "data": {
      "text/plain": [
       "'abcdefghijklmnopqrstuvwxyzABCDEFGHIJKLMNOPQRSTUVWXYZ'"
      ]
     },
     "execution_count": 13,
     "metadata": {},
     "output_type": "execute_result"
    }
   ],
   "source": [
    "import string\n",
    "\n",
    "string.ascii_letters"
   ]
  },
  {
   "cell_type": "code",
   "execution_count": 14,
   "id": "17223aa3-8d38-4ea5-be3a-c8f7483c7240",
   "metadata": {},
   "outputs": [
    {
     "name": "stdout",
     "output_type": "stream",
     "text": [
      "abcdefghijklmnopqrstuvwxyz\n",
      "97 122\n",
      "abcdefghijklmnopqrstuvwxyz\n"
     ]
    }
   ],
   "source": [
    "print(string.ascii_lowercase)\n",
    "\n",
    "print(ord('a'), ord('z'))\n",
    "print(''.join(chr(x) for x in range(ord('a'), ord('z') + 1)))"
   ]
  },
  {
   "cell_type": "code",
   "execution_count": 15,
   "id": "9233749b-e088-4b0a-ba70-06d0fbde5fab",
   "metadata": {},
   "outputs": [
    {
     "name": "stdout",
     "output_type": "stream",
     "text": [
      "ABCDEFGHIJKLMNOPQRSTUVWXYZ\n",
      "65 90\n",
      "ABCDEFGHIJKLMNOPQRSTUVWXYZ\n"
     ]
    }
   ],
   "source": [
    "print(string.ascii_uppercase)\n",
    "\n",
    "print(ord('A'), ord('Z'))\n",
    "print(''.join(chr(x) for x in range(ord('A'), ord('Z') + 1)))"
   ]
  },
  {
   "cell_type": "code",
   "execution_count": 16,
   "id": "cc0f42e1-c728-4ac8-be62-830f510e5df9",
   "metadata": {},
   "outputs": [
    {
     "name": "stdout",
     "output_type": "stream",
     "text": [
      "0123456789\n",
      "48 57\n",
      "0123456789\n"
     ]
    }
   ],
   "source": [
    "print(string.digits)\n",
    "\n",
    "print(ord('0'), ord('9'))\n",
    "print(''.join(chr(x) for x in range(ord('0'), ord('9') + 1)))"
   ]
  },
  {
   "cell_type": "code",
   "execution_count": 17,
   "id": "10927e7f-bdae-4804-8209-db0ef19587c9",
   "metadata": {},
   "outputs": [
    {
     "data": {
      "text/plain": [
       "'0123456789abcdefABCDEF'"
      ]
     },
     "execution_count": 17,
     "metadata": {},
     "output_type": "execute_result"
    }
   ],
   "source": [
    "string.hexdigits"
   ]
  },
  {
   "cell_type": "code",
   "execution_count": 18,
   "id": "c407c11b-71b1-4489-ac44-137301c6edc3",
   "metadata": {},
   "outputs": [
    {
     "data": {
      "text/plain": [
       "'01234567'"
      ]
     },
     "execution_count": 18,
     "metadata": {},
     "output_type": "execute_result"
    }
   ],
   "source": [
    "string.octdigits"
   ]
  },
  {
   "cell_type": "code",
   "execution_count": 19,
   "id": "62880091-060f-4539-a661-0d79abf740a8",
   "metadata": {},
   "outputs": [
    {
     "data": {
      "text/plain": [
       "'!\"#$%&\\'()*+,-./:;<=>?@[\\\\]^_`{|}~'"
      ]
     },
     "execution_count": 19,
     "metadata": {},
     "output_type": "execute_result"
    }
   ],
   "source": [
    "string.punctuation"
   ]
  },
  {
   "cell_type": "code",
   "execution_count": 20,
   "id": "2b1aa2e5-30cf-454c-a0d3-6f0771a90c1d",
   "metadata": {},
   "outputs": [
    {
     "data": {
      "text/plain": [
       "'0123456789abcdefghijklmnopqrstuvwxyzABCDEFGHIJKLMNOPQRSTUVWXYZ!\"#$%&\\'()*+,-./:;<=>?@[\\\\]^_`{|}~ \\t\\n\\r\\x0b\\x0c'"
      ]
     },
     "execution_count": 20,
     "metadata": {},
     "output_type": "execute_result"
    }
   ],
   "source": [
    "string.printable"
   ]
  },
  {
   "cell_type": "code",
   "execution_count": 21,
   "id": "c6697848-246c-447d-a88f-f58b113d6266",
   "metadata": {
    "scrolled": true
   },
   "outputs": [
    {
     "data": {
      "text/plain": [
       "' \\t\\n\\r\\x0b\\x0c'"
      ]
     },
     "execution_count": 21,
     "metadata": {},
     "output_type": "execute_result"
    }
   ],
   "source": [
    "string.whitespace"
   ]
  },
  {
   "cell_type": "markdown",
   "id": "e844bafc-e2ea-4dca-8b12-dba5e0d1a8b7",
   "metadata": {},
   "source": [
    "### 2.3 String functions\n",
    "\n",
    "TODO"
   ]
  },
  {
   "cell_type": "markdown",
   "id": "eb00c09c-703f-4af8-bb29-3323898b8b4a",
   "metadata": {},
   "source": [
    "### 2.4 f-strings\n",
    "\n",
    "*f-strings* allows for inline formatting for string."
   ]
  },
  {
   "cell_type": "code",
   "execution_count": 22,
   "id": "bf2e50a0-2f64-4e3f-8f1a-ba0478baa7ed",
   "metadata": {},
   "outputs": [
    {
     "data": {
      "text/plain": [
       "'a = 10'"
      ]
     },
     "execution_count": 22,
     "metadata": {},
     "output_type": "execute_result"
    }
   ],
   "source": [
    "# basic\n",
    "a = 10\n",
    "f'a = {a}'"
   ]
  },
  {
   "cell_type": "code",
   "execution_count": 23,
   "id": "13c40f4f-9796-4155-aa99-a2d8fedda7bb",
   "metadata": {},
   "outputs": [
    {
     "data": {
      "text/plain": [
       "'a = 11'"
      ]
     },
     "execution_count": 23,
     "metadata": {},
     "output_type": "execute_result"
    }
   ],
   "source": [
    "# expressions\n",
    "a = 10\n",
    "f'a = {a + 1}'"
   ]
  },
  {
   "cell_type": "code",
   "execution_count": 24,
   "id": "64d17681-7c84-45db-987a-2ea485f3cca5",
   "metadata": {},
   "outputs": [
    {
     "data": {
      "text/plain": [
       "'len a = 3'"
      ]
     },
     "execution_count": 24,
     "metadata": {},
     "output_type": "execute_result"
    }
   ],
   "source": [
    "# functions\n",
    "a = [1, 2, 3]\n",
    "f'len a = {len(a)}'"
   ]
  },
  {
   "cell_type": "code",
   "execution_count": 25,
   "id": "f9a347be-f6f0-40f1-9d59-ed3a91f7c637",
   "metadata": {},
   "outputs": [
    {
     "data": {
      "text/plain": [
       "\"his name is 'Fred'\""
      ]
     },
     "execution_count": 25,
     "metadata": {},
     "output_type": "execute_result"
    }
   ],
   "source": [
    "# representation\n",
    "a = 'Fred'\n",
    "f'his name is {a!r}'"
   ]
  },
  {
   "cell_type": "markdown",
   "id": "0e110599-ddce-4bad-b19c-89c85b194396",
   "metadata": {},
   "source": [
    "### 2.5 Regular expressions\n",
    "\n",
    "TODO"
   ]
  },
  {
   "cell_type": "code",
   "execution_count": 26,
   "id": "882a2596-6581-45f4-bbd1-904db0ce1b63",
   "metadata": {},
   "outputs": [
    {
     "data": {
      "text/plain": [
       "['hello', 'do', 'you', 'like', 'cats', 'dogs', 'birds', 'or', 'frogs']"
      ]
     },
     "execution_count": 26,
     "metadata": {},
     "output_type": "execute_result"
    }
   ],
   "source": [
    "# find words in string ignoring punctuation\n",
    "import re\n",
    "\n",
    "some_string = 'hello! do you like cats, dogs, birds, or frogs?'\n",
    "re.findall(r'\\w+', some_string)"
   ]
  },
  {
   "cell_type": "markdown",
   "id": "3297aa89-408c-48e7-b359-3f5ce001c0e1",
   "metadata": {},
   "source": [
    "### 3. Math operations\n",
    "\n",
    "The following are a colleciton of common math operations in Python. The *math* library includes a whole lot more.\n",
    "\n",
    "Ref: https://docs.python.org/3/library/math.html"
   ]
  },
  {
   "cell_type": "code",
   "execution_count": 27,
   "id": "2c24cc03-265e-48de-ad77-79cff63e4b91",
   "metadata": {},
   "outputs": [
    {
     "data": {
      "text/plain": [
       "9"
      ]
     },
     "execution_count": 27,
     "metadata": {},
     "output_type": "execute_result"
    }
   ],
   "source": [
    "# exponentiation\n",
    "3 ** 2"
   ]
  },
  {
   "cell_type": "code",
   "execution_count": 28,
   "id": "62d673f5-aaaa-485d-8b23-6f7ba61dd584",
   "metadata": {},
   "outputs": [
    {
     "data": {
      "text/plain": [
       "9"
      ]
     },
     "execution_count": 28,
     "metadata": {},
     "output_type": "execute_result"
    }
   ],
   "source": [
    "# also exponentiation\n",
    "pow(3, 2)"
   ]
  },
  {
   "cell_type": "code",
   "execution_count": 29,
   "id": "0639cfa7-76e5-4613-a76f-ceefc358b1a1",
   "metadata": {},
   "outputs": [
    {
     "data": {
      "text/plain": [
       "9.0"
      ]
     },
     "execution_count": 29,
     "metadata": {},
     "output_type": "execute_result"
    }
   ],
   "source": [
    "# also exponentiation\n",
    "import math\n",
    "math.pow(3, 2)"
   ]
  },
  {
   "cell_type": "code",
   "execution_count": 30,
   "id": "f0b01420-1f5c-4fb8-b93e-4d33f3b51ea5",
   "metadata": {},
   "outputs": [
    {
     "data": {
      "text/plain": [
       "4"
      ]
     },
     "execution_count": 30,
     "metadata": {},
     "output_type": "execute_result"
    }
   ],
   "source": [
    "# floor division\n",
    "9 // 2"
   ]
  },
  {
   "cell_type": "code",
   "execution_count": 31,
   "id": "39c8a71f-9148-40e7-9889-0447388ea35d",
   "metadata": {},
   "outputs": [
    {
     "data": {
      "text/plain": [
       "3"
      ]
     },
     "execution_count": 31,
     "metadata": {},
     "output_type": "execute_result"
    }
   ],
   "source": [
    "# floor\n",
    "import math\n",
    "math.floor(3.8)"
   ]
  },
  {
   "cell_type": "code",
   "execution_count": 32,
   "id": "35825e73-ece4-43b3-898c-56e40618c8c3",
   "metadata": {},
   "outputs": [
    {
     "data": {
      "text/plain": [
       "4"
      ]
     },
     "execution_count": 32,
     "metadata": {},
     "output_type": "execute_result"
    }
   ],
   "source": [
    "# ceiling\n",
    "math.ceil(3.14)"
   ]
  },
  {
   "cell_type": "code",
   "execution_count": 33,
   "id": "b6ddc8e3-95eb-4549-80c0-2c164db47465",
   "metadata": {},
   "outputs": [
    {
     "data": {
      "text/plain": [
       "5"
      ]
     },
     "execution_count": 33,
     "metadata": {},
     "output_type": "execute_result"
    }
   ],
   "source": [
    "# in addition to finding max/min values in lists, max() and min() can take multiple arguments\n",
    "max(1, 2, 3, 4, 5)"
   ]
  },
  {
   "cell_type": "markdown",
   "id": "28b0ce96-3ca2-4131-8606-01556c4efc58",
   "metadata": {},
   "source": [
    "## 4. Bits"
   ]
  },
  {
   "cell_type": "code",
   "execution_count": 34,
   "id": "943ec081-90a7-4e62-857e-75d9bc7caa8d",
   "metadata": {},
   "outputs": [
    {
     "name": "stdout",
     "output_type": "stream",
     "text": [
      "15\n",
      "0b1111\n",
      "0xf\n"
     ]
    }
   ],
   "source": [
    "#  create a binary number\n",
    "x = 0b1111\n",
    "\n",
    "print(x) # equivalent to print(int(x))\n",
    "print(bin(x))\n",
    "print(hex(x))"
   ]
  },
  {
   "cell_type": "code",
   "execution_count": 35,
   "id": "20d94468-3cb8-4dfd-89b2-7ab94fd53546",
   "metadata": {},
   "outputs": [
    {
     "name": "stdout",
     "output_type": "stream",
     "text": [
      "15\n",
      "0b1111\n",
      "0xf\n"
     ]
    }
   ],
   "source": [
    "# create a hex number\n",
    "x = 0xf\n",
    "\n",
    "print(x)\n",
    "print(bin(x))\n",
    "print(hex(x))"
   ]
  },
  {
   "cell_type": "code",
   "execution_count": 36,
   "id": "6dd450fa-606e-4382-95f4-e3e541987faa",
   "metadata": {},
   "outputs": [
    {
     "data": {
      "text/plain": [
       "'0b111100'"
      ]
     },
     "execution_count": 36,
     "metadata": {},
     "output_type": "execute_result"
    }
   ],
   "source": [
    "# shift bits left\n",
    "x = 0b1111\n",
    "\n",
    "bin(x << 2)"
   ]
  },
  {
   "cell_type": "code",
   "execution_count": 37,
   "id": "26d7a7ea-fb73-44a7-b4ad-ae37edb560e0",
   "metadata": {},
   "outputs": [
    {
     "data": {
      "text/plain": [
       "'0b11'"
      ]
     },
     "execution_count": 37,
     "metadata": {},
     "output_type": "execute_result"
    }
   ],
   "source": [
    "# shift bits right\n",
    "x = 0b1111\n",
    "\n",
    "bin(x >> 2)"
   ]
  },
  {
   "cell_type": "code",
   "execution_count": 38,
   "id": "5816151f-f28b-48be-afa4-c50852a1bd6b",
   "metadata": {},
   "outputs": [
    {
     "data": {
      "text/plain": [
       "'0b1010'"
      ]
     },
     "execution_count": 38,
     "metadata": {},
     "output_type": "execute_result"
    }
   ],
   "source": [
    "# AND bits\n",
    "x = 0b1111\n",
    "y = 0b1010\n",
    "\n",
    "bin(x & y)"
   ]
  },
  {
   "cell_type": "code",
   "execution_count": 39,
   "id": "59c03d24-4f08-4ad9-96d5-4edbea94ee8e",
   "metadata": {},
   "outputs": [
    {
     "data": {
      "text/plain": [
       "'0b1111'"
      ]
     },
     "execution_count": 39,
     "metadata": {},
     "output_type": "execute_result"
    }
   ],
   "source": [
    "# OR bits\n",
    "x = 0b1111\n",
    "y = 0b1010\n",
    "\n",
    "bin(x | y)"
   ]
  },
  {
   "cell_type": "code",
   "execution_count": 40,
   "id": "49910b79-f797-4359-8697-5ff44caa1e59",
   "metadata": {},
   "outputs": [
    {
     "data": {
      "text/plain": [
       "'0b1010'"
      ]
     },
     "execution_count": 40,
     "metadata": {},
     "output_type": "execute_result"
    }
   ],
   "source": [
    "# XOR bits\n",
    "x = 0b0000\n",
    "y = 0b1010\n",
    "\n",
    "bin(x ^ y)"
   ]
  },
  {
   "cell_type": "code",
   "execution_count": 41,
   "id": "45fa0eb9-ffa0-4c19-ad95-09924af4b0e5",
   "metadata": {},
   "outputs": [
    {
     "name": "stdout",
     "output_type": "stream",
     "text": [
      "15\n",
      "-16\n",
      "-0b10000\n"
     ]
    }
   ],
   "source": [
    "# invert bits\n",
    "x = 0b1111\n",
    "\n",
    "print(x)\n",
    "print(~x)\n",
    "print(bin(~x))"
   ]
  },
  {
   "cell_type": "code",
   "execution_count": 42,
   "id": "caaffd37-5ec7-4480-ad8c-fb34c1700bfd",
   "metadata": {},
   "outputs": [
    {
     "name": "stdout",
     "output_type": "stream",
     "text": [
      "0b100\n"
     ]
    },
    {
     "data": {
      "text/plain": [
       "'0b1100'"
      ]
     },
     "execution_count": 42,
     "metadata": {},
     "output_type": "execute_result"
    }
   ],
   "source": [
    "# set specific bit to 1, 0-indexed from right\n",
    "x = 0b1000\n",
    "\n",
    "mask = 1 << 2 # third bit from right\n",
    "print(bin(mask))\n",
    "\n",
    "bin(x | mask)"
   ]
  },
  {
   "cell_type": "code",
   "execution_count": 43,
   "id": "65c1cfa7-9e62-45cc-a345-fd4031ff3b1a",
   "metadata": {},
   "outputs": [
    {
     "name": "stdout",
     "output_type": "stream",
     "text": [
      "0b100\n",
      "-0b101\n"
     ]
    },
    {
     "data": {
      "text/plain": [
       "'0b1011'"
      ]
     },
     "execution_count": 43,
     "metadata": {},
     "output_type": "execute_result"
    }
   ],
   "source": [
    "# set specific bit to 0, 0-indexed from right\n",
    "x = 0b1111\n",
    "\n",
    "mask = 1 << 2 # third bit from right\n",
    "print(bin(mask))\n",
    "\n",
    "mask = ~mask\n",
    "print(bin(mask))\n",
    "\n",
    "bin(x & mask)"
   ]
  },
  {
   "cell_type": "code",
   "execution_count": 44,
   "id": "aa8b2a11-af12-46e4-aa01-cbd48df258e1",
   "metadata": {},
   "outputs": [],
   "source": [
    "# some useful functions\n",
    "\n",
    "def get_bit(value, n):\n",
    "    return ((value >> n & 1) != 0)\n",
    "\n",
    "def set_bit(value, n):\n",
    "    return value | (1 << n)\n",
    "\n",
    "def clear_bit(value, n):\n",
    "    return value & ~(1 << n)"
   ]
  }
 ],
 "metadata": {
  "kernelspec": {
   "display_name": "Python 3 (ipykernel)",
   "language": "python",
   "name": "python3"
  },
  "language_info": {
   "codemirror_mode": {
    "name": "ipython",
    "version": 3
   },
   "file_extension": ".py",
   "mimetype": "text/x-python",
   "name": "python",
   "nbconvert_exporter": "python",
   "pygments_lexer": "ipython3",
   "version": "3.12.3"
  }
 },
 "nbformat": 4,
 "nbformat_minor": 5
}
