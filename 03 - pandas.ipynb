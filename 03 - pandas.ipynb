{
 "cells": [
  {
   "cell_type": "markdown",
   "id": "f9cafaf9-a8c6-4feb-9d53-40498b5bf47a",
   "metadata": {},
   "source": [
    "# Data Processing with pandas\n",
    "\n",
    "Ref: https://pandas.pydata.org/"
   ]
  },
  {
   "cell_type": "code",
   "execution_count": null,
   "id": "a8b64b6d-7020-4669-a97c-f60c08e81fec",
   "metadata": {},
   "outputs": [],
   "source": []
  }
 ],
 "metadata": {
  "kernelspec": {
   "display_name": "Python 3 (ipykernel)",
   "language": "python",
   "name": "python3"
  },
  "language_info": {
   "codemirror_mode": {
    "name": "ipython",
    "version": 3
   },
   "file_extension": ".py",
   "mimetype": "text/x-python",
   "name": "python",
   "nbconvert_exporter": "python",
   "pygments_lexer": "ipython3",
   "version": "3.10.12"
  }
 },
 "nbformat": 4,
 "nbformat_minor": 5
}
