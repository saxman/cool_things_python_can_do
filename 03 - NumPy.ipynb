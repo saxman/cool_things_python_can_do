{
 "cells": [
  {
   "cell_type": "markdown",
   "id": "4f6503ad-60d4-43a5-a2a6-95a2595d524a",
   "metadata": {},
   "source": [
    "# Data Processing with NumPy\n",
    "\n",
    "Ref: https://numpy.org/"
   ]
  },
  {
   "cell_type": "code",
   "execution_count": null,
   "id": "fff2f8ae-3c94-4d69-a6e0-dda1207fb40d",
   "metadata": {},
   "outputs": [],
   "source": []
  }
 ],
 "metadata": {
  "kernelspec": {
   "display_name": "Python 3 (ipykernel)",
   "language": "python",
   "name": "python3"
  },
  "language_info": {
   "codemirror_mode": {
    "name": "ipython",
    "version": 3
   },
   "file_extension": ".py",
   "mimetype": "text/x-python",
   "name": "python",
   "nbconvert_exporter": "python",
   "pygments_lexer": "ipython3",
   "version": "3.10.12"
  }
 },
 "nbformat": 4,
 "nbformat_minor": 5
}
